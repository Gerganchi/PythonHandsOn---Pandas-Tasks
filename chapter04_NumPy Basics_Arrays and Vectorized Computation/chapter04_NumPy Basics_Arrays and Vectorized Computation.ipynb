{
 "cells": [
  {
   "cell_type": "markdown",
   "metadata": {},
   "source": [
    "<h3><b>Readme: </b></h3>\n",
    "1. 'array' means numpy array data type: numpy.array()</br>\n",
    "2. 'list' means python list data type: list()\n",
    "\n",
    "We encourage you to explore more functionalities in 'Python for Data Analysis, 3E' by Wes McKinney, Chapter 4: 'NumPy Basics: Arrays and Vectorized Computation'.</br>\n",
    "Link: https://wesmckinney.com/book/numpy-basics"
   ]
  },
  {
   "cell_type": "code",
   "execution_count": 1,
   "metadata": {},
   "outputs": [
    {
     "name": "stdout",
     "output_type": "stream",
     "text": [
      "Collecting numpy\n",
      "  Downloading numpy-2.2.6-cp313-cp313-win_amd64.whl.metadata (60 kB)\n",
      "Downloading numpy-2.2.6-cp313-cp313-win_amd64.whl (12.6 MB)\n",
      "   ---------------------------------------- 0.0/12.6 MB ? eta -:--:--\n",
      "   --------- ------------------------------ 2.9/12.6 MB 14.3 MB/s eta 0:00:01\n",
      "   ------------------------ --------------- 7.6/12.6 MB 18.3 MB/s eta 0:00:01\n",
      "   -------------------------------------- - 12.1/12.6 MB 19.2 MB/s eta 0:00:01\n",
      "   ---------------------------------------  12.6/12.6 MB 19.0 MB/s eta 0:00:01\n",
      "   ---------------------------------------- 12.6/12.6 MB 15.0 MB/s eta 0:00:00\n",
      "Installing collected packages: numpy\n",
      "Successfully installed numpy-2.2.6\n",
      "Note: you may need to restart the kernel to use updated packages.\n"
     ]
    }
   ],
   "source": [
    "%pip install numpy"
   ]
  },
  {
   "cell_type": "code",
   "execution_count": 2,
   "metadata": {},
   "outputs": [],
   "source": [
    "import numpy as np"
   ]
  },
  {
   "cell_type": "markdown",
   "metadata": {},
   "source": [
    "<h3><b>Task 1 </b></h3>\n",
    "\n",
    "Create a python list in range 1_000_000. </br>\n",
    "Then multiply each element by 2 and measure the execution time with the help of magic command %timeit.</br>\n",
    "</p>\n"
   ]
  },
  {
   "cell_type": "code",
   "execution_count": 3,
   "metadata": {},
   "outputs": [
    {
     "name": "stdout",
     "output_type": "stream",
     "text": [
      "40.3 ms ± 1.35 ms per loop (mean ± std. dev. of 7 runs, 10 loops each)\n"
     ]
    }
   ],
   "source": [
    "# Create a list with range 1_000_000\n",
    "data = list(range(1_000_000))\n",
    "\n",
    "# Measure execution time of multiplying each element by 2\n",
    "%timeit [x * 2 for x in data]\n"
   ]
  },
  {
   "cell_type": "markdown",
   "metadata": {},
   "source": [
    "<h3><b>Task 2 </b></h3>\n",
    "<p>\n",
    "Now create a numpy array in range 1_000_000. </br>\n",
    "Then multiply each element by 2 and measure the execution time.</br></br>\n",
    "Then compare the multiplication execution time of numpy array and python list. Which one is faster?</br>\n",
    "Do you have to use a for loop for the multiplication operation with numpy arrays?</br>\n",
    "</p>\n"
   ]
  },
  {
   "cell_type": "code",
   "execution_count": 4,
   "metadata": {},
   "outputs": [
    {
     "name": "stdout",
     "output_type": "stream",
     "text": [
      "1.98 ms ± 88.7 μs per loop (mean ± std. dev. of 7 runs, 100 loops each)\n"
     ]
    }
   ],
   "source": [
    "import numpy as np\n",
    "\n",
    "# Create a NumPy array\n",
    "data_np = np.arange(1_000_000)\n",
    "\n",
    "# Measure execution time of multiplying each element by 2\n",
    "%timeit data_np * 2\n"
   ]
  },
  {
   "cell_type": "markdown",
   "metadata": {},
   "source": [
    "<h3><b>Task 3 </b></h3>\n",
    "<p>\n",
    "Create a numpy array out of [1.5, -0.1, 3], [0, -3, 6.5]. Then do: </br>\n",
    "1. Add each element to itself;</br>\n",
    "2. Multiply each element by 10.</br>\n",
    "3. How many dimentions does the array have? Use proper numpy attributes to return the answer.</br>\n",
    "\n",
    "</p>\n"
   ]
  },
  {
   "cell_type": "code",
   "execution_count": 5,
   "metadata": {},
   "outputs": [
    {
     "name": "stdout",
     "output_type": "stream",
     "text": [
      "Original array:\n",
      " [[ 1.5 -0.1  3. ]\n",
      " [ 0.  -3.   6.5]]\n",
      "\n",
      "Each element added to itself:\n",
      " [[ 3.  -0.2  6. ]\n",
      " [ 0.  -6.  13. ]]\n",
      "\n",
      "Each element multiplied by 10:\n",
      " [[ 15.  -1.  30.]\n",
      " [  0. -30.  65.]]\n",
      "\n",
      "Number of dimensions: 2\n"
     ]
    }
   ],
   "source": [
    "import numpy as np\n",
    "\n",
    "# Create the array\n",
    "arr = np.array([[1.5, -0.1, 3], [0, -3, 6.5]])\n",
    "\n",
    "# Add each element to itself\n",
    "added = arr + arr\n",
    "\n",
    "# Multiply each element by 10\n",
    "multiplied = arr * 10\n",
    "\n",
    "# Get number of dimensions\n",
    "dimensions = arr.ndim\n",
    "\n",
    "# Print results\n",
    "print(\"Original array:\\n\", arr)\n",
    "print(\"\\nEach element added to itself:\\n\", added)\n",
    "print(\"\\nEach element multiplied by 10:\\n\", multiplied)\n",
    "print(\"\\nNumber of dimensions:\", dimensions)\n"
   ]
  },
  {
   "cell_type": "markdown",
   "metadata": {},
   "source": [
    "<h3><b>Task 4 </b></h3>\n",
    "<p>\n",
    "Create an array of zeros in the following shape: </br>\n",
    "[[0. 0. 0. 0. 0. 0.]</br>\n",
    " [0. 0. 0. 0. 0. 0.]</br>\n",
    " [0. 0. 0. 0. 0. 0.]]</br></br>\n",
    "Hint: </br>\n",
    "numpy.empty() serves a different purpose. It creates an array without initializing its values to any particular value, so it’s not safe to assume that it will return an array of all zeros. \n",
    "This function returns uninitialized memory and thus may contain nonzero \"garbage\" values. You should use this function only if you intend to populate the new array with data.\n",
    "\n",
    "\n",
    "\n",
    "\n",
    "</p>\n"
   ]
  },
  {
   "cell_type": "code",
   "execution_count": 6,
   "metadata": {},
   "outputs": [
    {
     "name": "stdout",
     "output_type": "stream",
     "text": [
      "[[0. 0. 0. 0. 0. 0.]\n",
      " [0. 0. 0. 0. 0. 0.]\n",
      " [0. 0. 0. 0. 0. 0.]]\n"
     ]
    }
   ],
   "source": [
    "import numpy as np\n",
    "\n",
    "# Create a 3x6 array filled with zeros\n",
    "zeros_array = np.zeros((3, 6))\n",
    "\n",
    "# Display the array\n",
    "print(zeros_array)\n"
   ]
  },
  {
   "cell_type": "markdown",
   "metadata": {},
   "source": [
    "<h3><b>Task 5 </b></h3>\n",
    "<p>\n",
    "Create an array of ones in the following shape: </br>\n",
    "[[1., 1.],</br>\n",
    " [1., 1.]]</br>\n",
    "\n",
    "\n",
    "\n",
    "\n",
    "\n",
    "</p>\n"
   ]
  },
  {
   "cell_type": "code",
   "execution_count": 7,
   "metadata": {},
   "outputs": [
    {
     "name": "stdout",
     "output_type": "stream",
     "text": [
      "[[1. 1.]\n",
      " [1. 1.]]\n"
     ]
    }
   ],
   "source": [
    "import numpy as np\n",
    "\n",
    "# Create a 2x2 array filled with ones\n",
    "ones_array = np.ones((2, 2))\n",
    "\n",
    "# Display the array\n",
    "print(ones_array)\n"
   ]
  },
  {
   "cell_type": "markdown",
   "metadata": {},
   "source": [
    "<h3><b>Task 6 </b></h3>\n",
    "<p>\n",
    "Create an array with shape(2, 2) where all values are equal to 10 </br>\n",
    "\n",
    "\n",
    "\n",
    "</p>\n"
   ]
  },
  {
   "cell_type": "code",
   "execution_count": 8,
   "metadata": {},
   "outputs": [
    {
     "name": "stdout",
     "output_type": "stream",
     "text": [
      "[[10 10]\n",
      " [10 10]]\n"
     ]
    }
   ],
   "source": [
    "import numpy as np\n",
    "\n",
    "# Create a 2x2 array filled with the value 10\n",
    "tens_array = np.full((2, 2), 10)\n",
    "\n",
    "# Display the array\n",
    "print(tens_array)\n"
   ]
  },
  {
   "cell_type": "markdown",
   "metadata": {},
   "source": [
    "<h3><b>Task 7 </b></h3>\n",
    "<p>\n",
    "Create an array in the following shape: </br>\n",
    "[[1. 0. 0.]</br>\n",
    "[0. 1. 0.]</br>\n",
    "[0. 0. 1.]]</br>\n",
    "\n",
    "\n",
    "\n",
    "</p>\n"
   ]
  },
  {
   "cell_type": "code",
   "execution_count": 9,
   "metadata": {},
   "outputs": [
    {
     "name": "stdout",
     "output_type": "stream",
     "text": [
      "[[1. 0. 0.]\n",
      " [0. 1. 0.]\n",
      " [0. 0. 1.]]\n"
     ]
    }
   ],
   "source": [
    "import numpy as np\n",
    "\n",
    "# Create a 3x3 identity matrix\n",
    "identity_matrix = np.eye(3)\n",
    "\n",
    "print(identity_matrix)\n"
   ]
  },
  {
   "cell_type": "markdown",
   "metadata": {},
   "source": [
    "<h3><b>Task 8 </b></h3>\n",
    "<p>\n",
    "Create array out of numbers 1, 2, 3, 4, 5, then display its data type. </br>\n",
    "Then convert the data type to float64 and display the data type.</br>\n",
    "\n",
    "\n",
    "\n",
    "</p>\n"
   ]
  },
  {
   "cell_type": "code",
   "execution_count": 10,
   "metadata": {},
   "outputs": [
    {
     "name": "stdout",
     "output_type": "stream",
     "text": [
      "Original array data type: int64\n",
      "Converted array data type: float64\n"
     ]
    }
   ],
   "source": [
    "import numpy as np\n",
    "\n",
    "# Create an array out of numbers 1,2,3,4,5\n",
    "arr = np.array([1, 2, 3, 4, 5])\n",
    "print(\"Original array data type:\", arr.dtype)\n",
    "\n",
    "# Convert the data type to float64\n",
    "arr_float = arr.astype(np.float64)\n",
    "print(\"Converted array data type:\", arr_float.dtype)\n"
   ]
  },
  {
   "cell_type": "markdown",
   "metadata": {},
   "source": [
    "<h3><b>Task 9 </b></h3>\n",
    "<p>\n",
    "Create a python list in range of 100. </br>\n",
    "Assign a scalar value of 1001 to the list elements with index 75, 76, 77, 78, 79, 80</br></br>\n",
    "\n",
    "\n",
    "</p>\n"
   ]
  },
  {
   "cell_type": "code",
   "execution_count": 11,
   "metadata": {},
   "outputs": [
    {
     "name": "stdout",
     "output_type": "stream",
     "text": [
      "[70, 71, 72, 73, 74, 1001, 1001, 1001, 1001, 1001, 1001, 81, 82, 83, 84]\n"
     ]
    }
   ],
   "source": [
    "# Create a list with values from 0 to 99\n",
    "my_list = list(range(100))\n",
    "\n",
    "# Assign 1001 to elements at indices 75 to 80\n",
    "for i in range(75, 81):\n",
    "    my_list[i] = 1001\n",
    "\n",
    "# Display the updated list slice to verify\n",
    "print(my_list[70:85])\n"
   ]
  },
  {
   "cell_type": "markdown",
   "metadata": {},
   "source": [
    "<h3><b>Task 10 </b></h3>\n",
    "<p>\n",
    "Now create a numpy array in range of 100. </br>\n",
    "Assign a scalar value of 1001 to the array elements with index 75, 76, 77, 78, 79, 80</br></br>\n",
    "Compare the assignment syntax with the one used with the python list.\n",
    "\n",
    "</p>\n"
   ]
  },
  {
   "cell_type": "code",
   "execution_count": 12,
   "metadata": {},
   "outputs": [
    {
     "name": "stdout",
     "output_type": "stream",
     "text": [
      "[  70   71   72   73   74 1001 1001 1001 1001 1001 1001   81   82   83\n",
      "   84]\n"
     ]
    }
   ],
   "source": [
    "import numpy as np\n",
    "\n",
    "# Create a numpy array with values from 0 to 99\n",
    "arr = np.arange(100)\n",
    "\n",
    "# Assign 1001 to elements at indices 75 to 80\n",
    "arr[75:81] = 1001\n",
    "\n",
    "# Print the slice to verify\n",
    "print(arr[70:85])\n"
   ]
  },
  {
   "cell_type": "markdown",
   "metadata": {},
   "source": [
    "<h3><b>Task 11 </b></h3>\n",
    "<p>\n",
    "Create an array out of the following names: \"Bob\", \"Joe\", \"Will\", \"Bob\", \"Will\", \"Joe\", \"Joe\".</br>\n",
    "Return a boolean array where 'True' indicates the position of 'Bob': </br>\n",
    "Output result: [ True, False, False,  True, False, False, False]</br></br>\n",
    "How would you do it if it was a python list?\n",
    "\n",
    "\n",
    "\n",
    "</p>\n"
   ]
  },
  {
   "cell_type": "code",
   "execution_count": 13,
   "metadata": {},
   "outputs": [
    {
     "name": "stdout",
     "output_type": "stream",
     "text": [
      "[ True False False  True False False False]\n"
     ]
    }
   ],
   "source": [
    "import numpy as np\n",
    "\n",
    "names = np.array([\"Bob\", \"Joe\", \"Will\", \"Bob\", \"Will\", \"Joe\", \"Joe\"])\n",
    "\n",
    "# Create boolean array where True means element is 'Bob'\n",
    "bob_positions = (names == \"Bob\")\n",
    "\n",
    "print(bob_positions)\n"
   ]
  },
  {
   "cell_type": "markdown",
   "metadata": {},
   "source": [
    "<p>\n",
    "What if you want to return a boolean array where 'True' indicates the position of 'Bob' or 'Will'?</br>\n",
    "\n",
    "</p>\n"
   ]
  },
  {
   "cell_type": "code",
   "execution_count": 14,
   "metadata": {},
   "outputs": [
    {
     "name": "stdout",
     "output_type": "stream",
     "text": [
      "[ True False  True  True  True False False]\n"
     ]
    }
   ],
   "source": [
    "import numpy as np\n",
    "\n",
    "names = np.array([\"Bob\", \"Joe\", \"Will\", \"Bob\", \"Will\", \"Joe\", \"Joe\"])\n",
    "\n",
    "# Boolean array where True if element is 'Bob' OR 'Will'\n",
    "positions = (names == \"Bob\") | (names == \"Will\")\n",
    "\n",
    "print(positions)\n"
   ]
  },
  {
   "cell_type": "markdown",
   "metadata": {},
   "source": [
    "<h3><b>Task 12 </b></h3>\n",
    "<p>\n",
    "Create an integer array out of [4, 7], [0, 2], [-5, 6], [0, 0], [1, 2], [-12, -4], [3, 4].</br>\n",
    "Select values from the integer array where value in the names array is 'Bob' (see the previous tasks).</br>\n",
    "\n",
    "</p>\n"
   ]
  },
  {
   "cell_type": "code",
   "execution_count": 15,
   "metadata": {},
   "outputs": [
    {
     "name": "stdout",
     "output_type": "stream",
     "text": [
      "[[4 7]\n",
      " [0 0]]\n"
     ]
    }
   ],
   "source": [
    "import numpy as np\n",
    "\n",
    "int_array = np.array([\n",
    "    [4, 7],\n",
    "    [0, 2],\n",
    "    [-5, 6],\n",
    "    [0, 0],\n",
    "    [1, 2],\n",
    "    [-12, -4],\n",
    "    [3, 4]\n",
    "])\n",
    "\n",
    "names = np.array([\"Bob\", \"Joe\", \"Will\", \"Bob\", \"Will\", \"Joe\", \"Joe\"])\n",
    "\n",
    "selected_rows = int_array[names == \"Bob\"]\n",
    "print(selected_rows)\n"
   ]
  },
  {
   "cell_type": "markdown",
   "metadata": {},
   "source": [
    "<p>\n",
    "Run below piece of code and analyse the result:</br>\n",
    "\n",
    "\n",
    "\n",
    "\n",
    "</p>\n"
   ]
  },
  {
   "cell_type": "code",
   "execution_count": 16,
   "metadata": {},
   "outputs": [
    {
     "name": "stdout",
     "output_type": "stream",
     "text": [
      "[[7]\n",
      " [0]]\n",
      "[7 0]\n"
     ]
    }
   ],
   "source": [
    "names = np.array([\"Bob\", \"Joe\", \"Will\", \"Bob\", \"Will\", \"Joe\", \"Joe\"])\n",
    "data = np.array([[4, 7], [0, 2], [-5, 6], [0, 0], [1, 2], [-12, -4], [3, 4]])\n",
    "\n",
    "print(data[names == \"Bob\", 1:])\n",
    "print(data[names == \"Bob\", 1])"
   ]
  },
  {
   "cell_type": "markdown",
   "metadata": {},
   "source": [
    "<h3><b>Task 13 </b></h3>\n",
    "<p>\n",
    "Create an array out of [4, 7], [0, 2], [-5, 6], [0, 0], [1, 2], [-12, -4], [3, 4].</br>\n",
    "Assign 0 to the values that are less then 0.</br>\n",
    "\n",
    "\n",
    "\n",
    "</p>\n"
   ]
  },
  {
   "cell_type": "code",
   "execution_count": 17,
   "metadata": {},
   "outputs": [
    {
     "name": "stdout",
     "output_type": "stream",
     "text": [
      "[[4 7]\n",
      " [0 2]\n",
      " [0 6]\n",
      " [0 0]\n",
      " [1 2]\n",
      " [0 0]\n",
      " [3 4]]\n"
     ]
    }
   ],
   "source": [
    "import numpy as np\n",
    "\n",
    "# Create the array\n",
    "arr = np.array([\n",
    "    [4, 7],\n",
    "    [0, 2],\n",
    "    [-5, 6],\n",
    "    [0, 0],\n",
    "    [1, 2],\n",
    "    [-12, -4],\n",
    "    [3, 4]\n",
    "])\n",
    "\n",
    "# Assign 0 to all elements less than 0\n",
    "arr[arr < 0] = 0\n",
    "\n",
    "print(arr)\n"
   ]
  },
  {
   "cell_type": "markdown",
   "metadata": {},
   "source": [
    "<h3><b>Task 14 </b></h3>\n",
    "<p>\n",
    "Create an array in range of 32 with shape(8, 4).</br>\n",
    "1. Return the value of 4 using indexing.</br>\n",
    "2. Return the value of 23 using indexing.</br>\n",
    "3. Return the value of 29 using indexing.</br>\n",
    "4. Return the value of 10 using indexing.</br>\n",
    "5. Now using indexing, return the values of 4, 23, 29, 10 all together using one line of code</br></br>\n",
    "Think of how would you do it using a python list and compare the syntax.\n",
    "\n",
    "</p>\n"
   ]
  },
  {
   "cell_type": "code",
   "execution_count": 18,
   "metadata": {},
   "outputs": [
    {
     "name": "stdout",
     "output_type": "stream",
     "text": [
      "[[ 0  1  2  3]\n",
      " [ 4  5  6  7]\n",
      " [ 8  9 10 11]\n",
      " [12 13 14 15]\n",
      " [16 17 18 19]\n",
      " [20 21 22 23]\n",
      " [24 25 26 27]\n",
      " [28 29 30 31]]\n",
      "4\n",
      "23\n",
      "29\n",
      "10\n",
      "[ 4 23 29 10]\n"
     ]
    }
   ],
   "source": [
    "import numpy as np\n",
    "\n",
    "arr = np.arange(32).reshape(8, 4)\n",
    "print(arr)\n",
    "print(arr[1, 0])  # Output: 4\n",
    "print(arr[5, 3])  # Output: 23\n",
    "print(arr[7, 1])  # Output: 29\n",
    "print(arr[2, 2])  # Output: 10\n",
    "indices = ([1, 5, 7, 2], [0, 3, 1, 2])\n",
    "print(arr[indices])\n"
   ]
  },
  {
   "cell_type": "markdown",
   "metadata": {},
   "source": [
    "<h3><b>Task 15 </b></h3>\n",
    "<p>\n",
    "Create two arrays 'x' and 'y' with size 8 each populated with random float numbers with the help of numpy.random.standard_normal().</br>\n",
    "1. Return the maximum value by comparing the two arrays.</br>\n",
    "2. From array 'x', return an array containing the whole parts of the float, and another array containing the remainders. E.g. in float -0.60869751 whole part is -0, and remainder is -0.60869751</br>\n",
    "</p>\n"
   ]
  },
  {
   "cell_type": "code",
   "execution_count": 19,
   "metadata": {},
   "outputs": [
    {
     "name": "stdout",
     "output_type": "stream",
     "text": [
      "x: [-0.16206747  0.32820066  0.22488205 -0.26865047 -0.98992091  0.31295173\n",
      "  1.14542499  0.90968231]\n",
      "y: [-0.05733484 -1.36605814 -1.58641495 -2.66206354 -0.40441114  1.79968465\n",
      " -0.16075453  2.1450122 ]\n",
      "\n",
      "Element-wise maximum values between x and y:\n",
      "[-0.05733484  0.32820066  0.22488205 -0.26865047 -0.40441114  1.79968465\n",
      "  1.14542499  2.1450122 ]\n",
      "\n",
      "Whole parts of x:\n",
      "[-0.  0.  0. -0. -0.  0.  1.  0.]\n",
      "\n",
      "Remainders of x:\n",
      "[-0.16206747  0.32820066  0.22488205 -0.26865047 -0.98992091  0.31295173\n",
      "  0.14542499  0.90968231]\n"
     ]
    }
   ],
   "source": [
    "import numpy as np\n",
    "\n",
    "# Create two arrays x and y, each of size 8 with random floats\n",
    "x = np.random.standard_normal(8)\n",
    "y = np.random.standard_normal(8)\n",
    "\n",
    "print(\"x:\", x)\n",
    "print(\"y:\", y)\n",
    "\n",
    "# 1. Return the maximum values comparing the two arrays element-wise\n",
    "max_values = np.maximum(x, y)\n",
    "print(\"\\nElement-wise maximum values between x and y:\")\n",
    "print(max_values)\n",
    "\n",
    "# 2. From x, get:\n",
    "#    - the whole parts (integer parts) using np.trunc()\n",
    "#    - the remainders by subtracting whole parts from x\n",
    "whole_parts = np.trunc(x)\n",
    "remainders = x - whole_parts\n",
    "\n",
    "print(\"\\nWhole parts of x:\")\n",
    "print(whole_parts)\n",
    "\n",
    "print(\"\\nRemainders of x:\")\n",
    "print(remainders)\n"
   ]
  },
  {
   "cell_type": "markdown",
   "metadata": {},
   "source": [
    "<h3><b>Task 16 </b></h3>\n",
    "<p>\n",
    "Given below arrays, return a python list that takes a value from xarr whenever the corresponding value in cond is True, and otherwise takes the value from yarr.</br>\n",
    "Use list comprehension technique and time it.</br></br>\n",
    "\n",
    "Hint: this has multiple problems. First, it will not be very fast for large arrays (because all the work is being done in interpreted Python code). \n",
    "Second, it will not work with multidimensional arrays.</br>\n",
    "\n",
    "\n",
    "</p>\n"
   ]
  },
  {
   "cell_type": "code",
   "execution_count": 21,
   "metadata": {},
   "outputs": [],
   "source": [
    "xarr = np.random.standard_normal(1_000_000)\n",
    "yarr = np.random.standard_normal(1_000_000)\n",
    "cond = np.random.choice(a=[True, False], size=1_000_000)"
   ]
  },
  {
   "cell_type": "markdown",
   "metadata": {},
   "source": [
    "<p>\n",
    "Now repeat the previous task, but return a numpy array this time. Measure the execution time, and compare the results..</br>\n",
    "\n",
    "\n",
    "\n",
    "\n",
    "</p>\n"
   ]
  },
  {
   "cell_type": "code",
   "execution_count": 22,
   "metadata": {},
   "outputs": [
    {
     "name": "stdout",
     "output_type": "stream",
     "text": [
      "List comprehension time: 0.0985 seconds\n",
      "Numpy where time: 0.0020 seconds\n",
      "Results are equal: True\n"
     ]
    }
   ],
   "source": [
    "import numpy as np\n",
    "import time\n",
    "\n",
    "# Create arrays\n",
    "xarr = np.random.standard_normal(1_000_000)\n",
    "yarr = np.random.standard_normal(1_000_000)\n",
    "cond = np.random.choice(a=[True, False], size=1_000_000)\n",
    "\n",
    "# 1. Using list comprehension and timing it\n",
    "start_time = time.time()\n",
    "\n",
    "result_list = [x if c else y for x, y, c in zip(xarr, yarr, cond)]\n",
    "\n",
    "end_time = time.time()\n",
    "list_time = end_time - start_time\n",
    "print(f\"List comprehension time: {list_time:.4f} seconds\")\n",
    "\n",
    "# 2. Using numpy.where and timing it\n",
    "start_time = time.time()\n",
    "\n",
    "result_np = np.where(cond, xarr, yarr)\n",
    "\n",
    "end_time = time.time()\n",
    "np_time = end_time - start_time\n",
    "print(f\"Numpy where time: {np_time:.4f} seconds\")\n",
    "\n",
    "# Confirm both results are the same (within floating precision)\n",
    "print(\"Results are equal:\", np.allclose(result_list, result_np))\n"
   ]
  },
  {
   "cell_type": "markdown",
   "metadata": {},
   "source": [
    "<h3><b>Task 17 </b></h3>\n",
    "<p>\n",
    "What is a 'row' and what is a 'column' in a multidimensional array? </br></br>\n",
    "Create an array using np.random.standard_normal with size(3, 5).</br>\n",
    "1. Calculate the sum of each 'row'.</br>\n",
    "2. Calculate the sum of each 'column'.</br>\n",
    "\n",
    "\n",
    "\n",
    "</p>\n"
   ]
  },
  {
   "cell_type": "code",
   "execution_count": 24,
   "metadata": {},
   "outputs": [
    {
     "name": "stdout",
     "output_type": "stream",
     "text": [
      "Array:\n",
      " [[-0.7543277  -1.87756789 -0.60598238 -0.42990831  0.38596043]\n",
      " [-0.05475103  0.6820357   0.08044627 -1.34485786  0.39500376]\n",
      " [ 0.18520719  0.67804692 -1.16874082 -0.96336494  0.59415957]]\n",
      "\n",
      "Sum of each row:\n",
      "[-3.28182586 -0.24212317 -0.67469207]\n",
      "\n",
      "Sum of each column:\n",
      "[-0.62387155 -0.51748527 -1.69427693 -2.73813111  1.37512376]\n"
     ]
    }
   ],
   "source": [
    "import numpy as np\n",
    "\n",
    "# Create array with shape (3, 5)\n",
    "arr = np.random.standard_normal((3, 5))\n",
    "print(\"Array:\\n\", arr)\n",
    "\n",
    "# 1. Sum of each row (axis=1)\n",
    "row_sums = arr.sum(axis=1)\n",
    "print(\"\\nSum of each row:\")\n",
    "print(row_sums)\n",
    "\n",
    "# 2. Sum of each column (axis=0)\n",
    "col_sums = arr.sum(axis=0)\n",
    "print(\"\\nSum of each column:\")\n",
    "print(col_sums)\n"
   ]
  },
  {
   "cell_type": "markdown",
   "metadata": {},
   "source": [
    "<h3><b>Task 18 </b></h3>\n",
    "<p>\n",
    "Boolean values are coerced to 1 (True) and 0 (False). Thus, sum is often used as a means of counting True values in a Boolean array.</br>\n",
    "1. Create an array using np.random.standard_normal with size 100.</br>\n",
    "2. Return the count of values that are greater than zero and the count of values that are less or equal to zero.</br>\n",
    "\n",
    "</p>\n"
   ]
  },
  {
   "cell_type": "code",
   "execution_count": 25,
   "metadata": {},
   "outputs": [
    {
     "name": "stdout",
     "output_type": "stream",
     "text": [
      "Count of values > 0: 51\n",
      "Count of values <= 0: 49\n"
     ]
    }
   ],
   "source": [
    "import numpy as np\n",
    "\n",
    "# 1. Create array of 100 random floats\n",
    "arr = np.random.standard_normal(100)\n",
    "\n",
    "# 2. Count how many are > 0\n",
    "count_gt_zero = np.sum(arr > 0)\n",
    "\n",
    "# Count how many are <= 0\n",
    "count_le_zero = np.sum(arr <= 0)\n",
    "\n",
    "print(f\"Count of values > 0: {count_gt_zero}\")\n",
    "print(f\"Count of values <= 0: {count_le_zero}\")\n"
   ]
  },
  {
   "cell_type": "markdown",
   "metadata": {},
   "source": [
    "<h3><b>Task 19 </b></h3>\n",
    "<p>\n",
    "Create an array using np.random.standard_normal with size(8, 10) and sort the values within each column.</br>\n",
    "\n",
    "\n",
    "\n",
    "\n",
    "</p>\n"
   ]
  },
  {
   "cell_type": "code",
   "execution_count": 26,
   "metadata": {},
   "outputs": [
    {
     "name": "stdout",
     "output_type": "stream",
     "text": [
      "Original array:\n",
      " [[ 9.12614841e-01 -7.57841827e-02 -4.49200294e-01 -1.17121839e+00\n",
      "  -3.73777526e-01 -4.60524719e-01 -1.13535346e+00  1.43934936e+00\n",
      "   2.52662940e-01 -7.58681227e-01]\n",
      " [ 4.76299051e-01 -2.12479453e-01 -1.19984264e+00 -1.60351455e+00\n",
      "  -1.47364986e-02 -2.63369381e-01  1.17800432e+00 -3.04563293e-01\n",
      "  -1.23788806e+00  3.11497858e-01]\n",
      " [-1.36772879e-01  3.09385725e+00 -5.12951574e-01  8.99803602e-01\n",
      "   9.86925981e-01  1.44837949e+00 -2.16105415e+00 -1.08398286e+00\n",
      "   4.23403210e-01 -1.19191299e+00]\n",
      " [-1.93008418e+00 -1.32022159e+00  4.41879014e-01  1.64871315e+00\n",
      "  -2.25690253e+00 -1.30600001e-01  5.86355732e-01  1.07325863e+00\n",
      "  -2.11914493e+00 -2.75066707e-01]\n",
      " [-5.43285522e-03  9.22470488e-02 -3.97922525e-01  2.29238850e-02\n",
      "   5.66998307e-01 -5.13098544e-01  1.29624112e+00  2.61717675e-01\n",
      "   2.80335013e-01  1.42859400e+00]\n",
      " [-9.66817400e-01  1.17495884e+00 -1.53174199e-01  7.90374100e-01\n",
      "  -6.50028981e-01  7.31908320e-01 -1.79135423e+00  7.17863453e-02\n",
      "  -4.80373061e-01  1.30790845e+00]\n",
      " [-1.46039754e-01  5.13789496e-01  3.61737041e-01 -7.68697415e-01\n",
      "   1.37193969e+00 -1.13073291e+00 -2.03920582e+00  3.41806494e-01\n",
      "   2.95967925e-01 -5.97040238e-03]\n",
      " [ 1.32285369e-01 -1.58519059e-01  1.88670920e+00  2.03102163e-03\n",
      "  -3.42802512e-01  1.29909773e+00  4.75037672e-01  7.88398680e-01\n",
      "  -1.79646873e+00 -3.28167564e-01]]\n",
      "\n",
      "Sorted array (each column sorted):\n",
      " [[-1.93008418e+00 -1.32022159e+00 -1.19984264e+00 -1.60351455e+00\n",
      "  -2.25690253e+00 -1.13073291e+00 -2.16105415e+00 -1.08398286e+00\n",
      "  -2.11914493e+00 -1.19191299e+00]\n",
      " [-9.66817400e-01 -2.12479453e-01 -5.12951574e-01 -1.17121839e+00\n",
      "  -6.50028981e-01 -5.13098544e-01 -2.03920582e+00 -3.04563293e-01\n",
      "  -1.79646873e+00 -7.58681227e-01]\n",
      " [-1.46039754e-01 -1.58519059e-01 -4.49200294e-01 -7.68697415e-01\n",
      "  -3.73777526e-01 -4.60524719e-01 -1.79135423e+00  7.17863453e-02\n",
      "  -1.23788806e+00 -3.28167564e-01]\n",
      " [-1.36772879e-01 -7.57841827e-02 -3.97922525e-01  2.03102163e-03\n",
      "  -3.42802512e-01 -2.63369381e-01 -1.13535346e+00  2.61717675e-01\n",
      "  -4.80373061e-01 -2.75066707e-01]\n",
      " [-5.43285522e-03  9.22470488e-02 -1.53174199e-01  2.29238850e-02\n",
      "  -1.47364986e-02 -1.30600001e-01  4.75037672e-01  3.41806494e-01\n",
      "   2.52662940e-01 -5.97040238e-03]\n",
      " [ 1.32285369e-01  5.13789496e-01  3.61737041e-01  7.90374100e-01\n",
      "   5.66998307e-01  7.31908320e-01  5.86355732e-01  7.88398680e-01\n",
      "   2.80335013e-01  3.11497858e-01]\n",
      " [ 4.76299051e-01  1.17495884e+00  4.41879014e-01  8.99803602e-01\n",
      "   9.86925981e-01  1.29909773e+00  1.17800432e+00  1.07325863e+00\n",
      "   2.95967925e-01  1.30790845e+00]\n",
      " [ 9.12614841e-01  3.09385725e+00  1.88670920e+00  1.64871315e+00\n",
      "   1.37193969e+00  1.44837949e+00  1.29624112e+00  1.43934936e+00\n",
      "   4.23403210e-01  1.42859400e+00]]\n"
     ]
    }
   ],
   "source": [
    "import numpy as np\n",
    "\n",
    "# Create array with shape (8, 10)\n",
    "arr = np.random.standard_normal((8, 10))\n",
    "print(\"Original array:\\n\", arr)\n",
    "\n",
    "# Sort values within each column (axis=0)\n",
    "sorted_arr = np.sort(arr, axis=0)\n",
    "print(\"\\nSorted array (each column sorted):\\n\", sorted_arr)\n"
   ]
  },
  {
   "cell_type": "markdown",
   "metadata": {},
   "source": [
    "<h3><b>Task 20 </b></h3>\n",
    "<p>\n",
    "Create an array of names \"Bob\", \"Will\", \"Joe\", \"Bob\", \"Will\", \"Joe\", \"Joe\".</br>\n",
    "Then return an array with unique value only.</br>\n",
    "\n",
    "\n",
    "\n",
    "\n",
    "</p>\n"
   ]
  },
  {
   "cell_type": "code",
   "execution_count": 27,
   "metadata": {},
   "outputs": [
    {
     "name": "stdout",
     "output_type": "stream",
     "text": [
      "['Bob' 'Joe' 'Will']\n"
     ]
    }
   ],
   "source": [
    "import numpy as np\n",
    "\n",
    "names = np.array([\"Bob\", \"Will\", \"Joe\", \"Bob\", \"Will\", \"Joe\", \"Joe\"])\n",
    "\n",
    "# Get unique values\n",
    "unique_names = np.unique(names)\n",
    "print(unique_names)\n"
   ]
  }
 ],
 "metadata": {
  "kernelspec": {
   "display_name": "Python 3",
   "language": "python",
   "name": "python3"
  },
  "language_info": {
   "codemirror_mode": {
    "name": "ipython",
    "version": 3
   },
   "file_extension": ".py",
   "mimetype": "text/x-python",
   "name": "python",
   "nbconvert_exporter": "python",
   "pygments_lexer": "ipython3",
   "version": "3.13.2"
  }
 },
 "nbformat": 4,
 "nbformat_minor": 2
}
