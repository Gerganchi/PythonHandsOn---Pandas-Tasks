{
 "cells": [
  {
   "cell_type": "markdown",
   "metadata": {},
   "source": [
    "Readme:\n",
    "\n",
    "\n",
    "We encourage you to explore more functionalities in 'Python for Data Analysis, 3E' by Wes McKinney, Chapter 8: 'Data Wrangling: Join, Combine, and Reshape'.</br>\n",
    "Link: https://wesmckinney.com/book/data-wrangling"
   ]
  },
  {
   "cell_type": "code",
   "execution_count": 1,
   "metadata": {},
   "outputs": [],
   "source": [
    "import pandas as pd\n",
    "import numpy as np"
   ]
  },
  {
   "cell_type": "markdown",
   "metadata": {},
   "source": [
    "<h3><b>Task 1 </b></h3>\n",
    "<p>\n",
    "Merging.</br>\n",
    "What is the default merge method in pandas? Run below code and analyse the result.</br>\n",
    "What is the default merge key column?  </br>\n",
    "</p>\n"
   ]
  },
  {
   "cell_type": "code",
   "execution_count": 2,
   "metadata": {},
   "outputs": [
    {
     "data": {
      "text/html": [
       "<div>\n",
       "<style scoped>\n",
       "    .dataframe tbody tr th:only-of-type {\n",
       "        vertical-align: middle;\n",
       "    }\n",
       "\n",
       "    .dataframe tbody tr th {\n",
       "        vertical-align: top;\n",
       "    }\n",
       "\n",
       "    .dataframe thead th {\n",
       "        text-align: right;\n",
       "    }\n",
       "</style>\n",
       "<table border=\"1\" class=\"dataframe\">\n",
       "  <thead>\n",
       "    <tr style=\"text-align: right;\">\n",
       "      <th></th>\n",
       "      <th>key</th>\n",
       "      <th>data1</th>\n",
       "      <th>data2</th>\n",
       "    </tr>\n",
       "  </thead>\n",
       "  <tbody>\n",
       "    <tr>\n",
       "      <th>0</th>\n",
       "      <td>a</td>\n",
       "      <td>0</td>\n",
       "      <td>3</td>\n",
       "    </tr>\n",
       "    <tr>\n",
       "      <th>1</th>\n",
       "      <td>b</td>\n",
       "      <td>1</td>\n",
       "      <td>4</td>\n",
       "    </tr>\n",
       "  </tbody>\n",
       "</table>\n",
       "</div>"
      ],
      "text/plain": [
       "  key  data1  data2\n",
       "0   a      0      3\n",
       "1   b      1      4"
      ]
     },
     "execution_count": 2,
     "metadata": {},
     "output_type": "execute_result"
    }
   ],
   "source": [
    "df1 = pd.DataFrame({\"key\": ['a', \"b\", 'c'],\n",
    "                     \"data1\": pd.Series(range(3), dtype=\"Int64\")})\n",
    "\n",
    "df2 = pd.DataFrame({\"key\": [\"a\", \"b\", \"d\"],\n",
    "                     \"data2\": pd.Series(range(3, 6), dtype=\"Int64\")})\n",
    "\n",
    "pd.merge(df1, df2)"
   ]
  },
  {
   "cell_type": "markdown",
   "metadata": {},
   "source": [
    "<h3><b>Task 2 </b></h3>\n",
    "<p>\n",
    "Perform a left merge on given dataframes explicitly mentioning the merge key column. </br>\n",
    "</p>\n"
   ]
  },
  {
   "cell_type": "code",
   "execution_count": 3,
   "metadata": {},
   "outputs": [
    {
     "name": "stdout",
     "output_type": "stream",
     "text": [
      "  key  data1  data2\n",
      "0   a      0      3\n",
      "1   b      1      4\n",
      "2   c      2   <NA>\n"
     ]
    }
   ],
   "source": [
    "import pandas as pd\n",
    "\n",
    "# Original DataFrames\n",
    "df1 = pd.DataFrame({\n",
    "    \"key\": ['a', \"b\", 'c'],\n",
    "    \"data1\": pd.Series(range(3), dtype=\"Int64\")\n",
    "})\n",
    "\n",
    "df2 = pd.DataFrame({\n",
    "    \"key\": [\"a\", \"b\", \"d\"],\n",
    "    \"data2\": pd.Series(range(3, 6), dtype=\"Int64\")\n",
    "})\n",
    "\n",
    "# Perform left merge explicitly specifying the key\n",
    "result = pd.merge(df1, df2, how=\"left\", on=\"key\")\n",
    "print(result)\n"
   ]
  },
  {
   "cell_type": "markdown",
   "metadata": {},
   "source": [
    "<h3><b>Task 3 </b></h3>\n",
    "<p>\n",
    "What if you have different names for the merge keys? Do right merge on below dataframes </br>\n",
    "</p>\n"
   ]
  },
  {
   "cell_type": "code",
   "execution_count": 5,
   "metadata": {},
   "outputs": [
    {
     "name": "stdout",
     "output_type": "stream",
     "text": [
      "  key_l  data1 key_r  data2\n",
      "0     a      0     a      3\n",
      "1     b      1     b      4\n",
      "2   NaN   <NA>     d      5\n"
     ]
    }
   ],
   "source": [
    "import pandas as pd\n",
    "\n",
    "# Given DataFrames\n",
    "df3 = pd.DataFrame({\n",
    "    \"key_l\": ['a', \"b\", 'c'],\n",
    "    \"data1\": pd.Series(range(3), dtype=\"Int64\")\n",
    "})\n",
    "\n",
    "df4 = pd.DataFrame({\n",
    "    \"key_r\": [\"a\", \"b\", \"d\"],\n",
    "    \"data2\": pd.Series(range(3, 6), dtype=\"Int64\")\n",
    "})\n",
    "\n",
    "# Perform right merge with different key names\n",
    "result = pd.merge(df3, df4, how=\"right\", left_on=\"key_l\", right_on=\"key_r\")\n",
    "print(result)\n"
   ]
  },
  {
   "cell_type": "markdown",
   "metadata": {},
   "source": [
    "<h3><b>Task 4 </b></h3>\n",
    "<p>\n",
    "Do outer merge on multiple keys 'key1', 'key2' on below dataframes </br>\n",
    "</p>\n"
   ]
  },
  {
   "cell_type": "code",
   "execution_count": 6,
   "metadata": {},
   "outputs": [
    {
     "name": "stdout",
     "output_type": "stream",
     "text": [
      "  key1  key2  data1  data2\n",
      "0    a     1      0      3\n",
      "1    b     2      1   <NA>\n",
      "2    b     4   <NA>      4\n",
      "3    c     3      2   <NA>\n",
      "4    d     5   <NA>      5\n"
     ]
    }
   ],
   "source": [
    "import pandas as pd\n",
    "\n",
    "# Given DataFrames\n",
    "df5 = pd.DataFrame({\n",
    "    \"key1\": ['a', \"b\", 'c'],\n",
    "    \"key2\": [1, 2, 3],\n",
    "    \"data1\": pd.Series(range(3), dtype=\"Int64\")\n",
    "})\n",
    "\n",
    "df6 = pd.DataFrame({\n",
    "    \"key1\": [\"a\", \"b\", \"d\"],\n",
    "    \"key2\": [1, 4, 5],\n",
    "    \"data2\": pd.Series(range(3, 6), dtype=\"Int64\")\n",
    "})\n",
    "\n",
    "# Outer merge on key1 and key2\n",
    "result = pd.merge(df5, df6, how=\"outer\", on=[\"key1\", \"key2\"])\n",
    "print(result)\n"
   ]
  },
  {
   "cell_type": "markdown",
   "metadata": {},
   "source": [
    "<h3><b>Task 5 </b></h3>\n",
    "<p>\n",
    "Now outer merge df5 and df6 on column 'key1' only and see how the overlaping column name 'key2' is displayed </br>\n",
    "</p>\n"
   ]
  },
  {
   "cell_type": "code",
   "execution_count": 7,
   "metadata": {},
   "outputs": [
    {
     "name": "stdout",
     "output_type": "stream",
     "text": [
      "  key1  key2_x  data1  key2_y  data2\n",
      "0    a     1.0      0     1.0      3\n",
      "1    b     2.0      1     4.0      4\n",
      "2    c     3.0      2     NaN   <NA>\n",
      "3    d     NaN   <NA>     5.0      5\n"
     ]
    }
   ],
   "source": [
    "import pandas as pd\n",
    "\n",
    "# Given DataFrames\n",
    "df5 = pd.DataFrame({\n",
    "    \"key1\": ['a', \"b\", 'c'],\n",
    "    \"key2\": [1, 2, 3],\n",
    "    \"data1\": pd.Series(range(3), dtype=\"Int64\")\n",
    "})\n",
    "\n",
    "df6 = pd.DataFrame({\n",
    "    \"key1\": [\"a\", \"b\", \"d\"],\n",
    "    \"key2\": [1, 4, 5],\n",
    "    \"data2\": pd.Series(range(3, 6), dtype=\"Int64\")\n",
    "})\n",
    "\n",
    "# Outer merge on key1 only\n",
    "result = pd.merge(df5, df6, how=\"outer\", on=\"key1\")\n",
    "print(result)\n"
   ]
  },
  {
   "cell_type": "markdown",
   "metadata": {},
   "source": [
    "<h3><b>Task 6 </b></h3>\n",
    "<p>\n",
    "Now repeat the same merge but provide a custom suffix for overlaping column name 'key2'.</br>\n",
    "</p>\n"
   ]
  },
  {
   "cell_type": "code",
   "execution_count": 8,
   "metadata": {},
   "outputs": [
    {
     "name": "stdout",
     "output_type": "stream",
     "text": [
      "  key1  key2_left  data1  key2_right  data2\n",
      "0    a        1.0      0         1.0      3\n",
      "1    b        2.0      1         4.0      4\n",
      "2    c        3.0      2         NaN   <NA>\n",
      "3    d        NaN   <NA>         5.0      5\n"
     ]
    }
   ],
   "source": [
    "import pandas as pd\n",
    "\n",
    "# DataFrames\n",
    "df5 = pd.DataFrame({\n",
    "    \"key1\": ['a', \"b\", 'c'],\n",
    "    \"key2\": [1, 2, 3],\n",
    "    \"data1\": pd.Series(range(3), dtype=\"Int64\")\n",
    "})\n",
    "\n",
    "df6 = pd.DataFrame({\n",
    "    \"key1\": [\"a\", \"b\", \"d\"],\n",
    "    \"key2\": [1, 4, 5],\n",
    "    \"data2\": pd.Series(range(3, 6), dtype=\"Int64\")\n",
    "})\n",
    "\n",
    "# Outer merge on 'key1' with custom suffixes\n",
    "result = pd.merge(df5, df6, how=\"outer\", on=\"key1\", suffixes=(\"_left\", \"_right\"))\n",
    "print(result)\n"
   ]
  },
  {
   "cell_type": "markdown",
   "metadata": {},
   "source": [
    "<h3><b>Task 7 </b></h3>\n",
    "<p>\n",
    "Merging on Index.</br>\n",
    "In some cases, the merge key(s) in a DataFrame will be found in its index (row labels).</br>\n",
    "Can you perform inner merge on below dataframes on df1's column 'key' and df2's index? </br></br>\n",
    "\n",
    "Note: DataFrame has a 'join' instance method to simplify merging by index - explore on your own about the differences between 'merge' and 'join' in pandas.\n",
    "</p>\n"
   ]
  },
  {
   "cell_type": "code",
   "execution_count": 11,
   "metadata": {},
   "outputs": [
    {
     "name": "stdout",
     "output_type": "stream",
     "text": [
      "  key  value  group_val\n",
      "0   a      0        2.5\n",
      "1   b      1        3.5\n"
     ]
    }
   ],
   "source": [
    "import pandas as pd\n",
    "\n",
    "df1 = pd.DataFrame({\n",
    "    \"key\": ['a', \"b\", 'c'],\n",
    "    \"value\": pd.Series(range(3), dtype=\"Int64\")\n",
    "})\n",
    "\n",
    "df2 = pd.DataFrame({\n",
    "    'group_val': [2.5, 3.5]\n",
    "}, index=['a', 'b'])\n",
    "\n",
    "# Perform inner merge on df1['key'] and df2's index\n",
    "result = pd.merge(df1, df2, left_on='key', right_index=True, how='inner')\n",
    "print(result)\n",
    "\n",
    "## df1.set_index('key').join(df2)\n",
    "\n"
   ]
  },
  {
   "cell_type": "markdown",
   "metadata": {},
   "source": [
    "<h3><b>Task 8 </b></h3>\n",
    "<p>\n",
    "Concatenating Along an Axis. </br>\n",
    "Run below piece of code and analyze the result of pandas.concat(). </br>\n",
    "\n",
    "</p>\n"
   ]
  },
  {
   "cell_type": "code",
   "execution_count": 12,
   "metadata": {},
   "outputs": [
    {
     "data": {
      "text/plain": [
       "a    0\n",
       "b    1\n",
       "c    2\n",
       "d    3\n",
       "e    4\n",
       "f    5\n",
       "g    6\n",
       "dtype: Int64"
      ]
     },
     "execution_count": 12,
     "metadata": {},
     "output_type": "execute_result"
    }
   ],
   "source": [
    "s1 = pd.Series([0, 1], index=[\"a\", \"b\"], dtype=\"Int64\")\n",
    "s2 = pd.Series([2, 3, 4], index=[\"c\", \"d\", \"e\"], dtype=\"Int64\")\n",
    "s3 = pd.Series([5, 6], index=[\"f\", \"g\"], dtype=\"Int64\")\n",
    "\n",
    "pd.concat([s1,s2,s3])"
   ]
  },
  {
   "cell_type": "markdown",
   "metadata": {},
   "source": [
    "<h3><b>Task 9 </b></h3>\n",
    "<p>\n",
    "Now concatenate the Series on column axis and analyze the result. </br>\n",
    "</p>\n"
   ]
  },
  {
   "cell_type": "code",
   "execution_count": 13,
   "metadata": {},
   "outputs": [
    {
     "name": "stdout",
     "output_type": "stream",
     "text": [
      "      0     1     2\n",
      "a     0  <NA>  <NA>\n",
      "b     1  <NA>  <NA>\n",
      "c  <NA>     2  <NA>\n",
      "d  <NA>     3  <NA>\n",
      "e  <NA>     4  <NA>\n",
      "f  <NA>  <NA>     5\n",
      "g  <NA>  <NA>     6\n"
     ]
    }
   ],
   "source": [
    "import pandas as pd\n",
    "\n",
    "s1 = pd.Series([0, 1], index=[\"a\", \"b\"], dtype=\"Int64\")\n",
    "s2 = pd.Series([2, 3, 4], index=[\"c\", \"d\", \"e\"], dtype=\"Int64\")\n",
    "s3 = pd.Series([5, 6], index=[\"f\", \"g\"], dtype=\"Int64\")\n",
    "\n",
    "result = pd.concat([s1, s2, s3], axis=1)\n",
    "print(result)\n"
   ]
  },
  {
   "cell_type": "markdown",
   "metadata": {},
   "source": [
    "<h3><b>Task 10 </b></h3>\n",
    "<p>\n",
    "A potential issue with the previous code is that the concatenated pieces are not identifiable in the result.  </br>\n",
    "Suppose instead you wanted to create a hierarchical index on the concatenation axis.  </br>\n",
    "To do this, use the 'keys' argument: run below code and analyze the result. </br>\n",
    "Think of how would you use these functionalities in real life.  </br>\n",
    "\n",
    "\n",
    "</p>\n"
   ]
  },
  {
   "cell_type": "code",
   "execution_count": 14,
   "metadata": {},
   "outputs": [
    {
     "name": "stdout",
     "output_type": "stream",
     "text": [
      "one    a    0\n",
      "       b    1\n",
      "two    c    2\n",
      "       d    3\n",
      "       e    4\n",
      "three  f    5\n",
      "       g    6\n",
      "dtype: Int64\n",
      "          a     b     c     d     e     f     g\n",
      "one       0     1  <NA>  <NA>  <NA>  <NA>  <NA>\n",
      "two    <NA>  <NA>     2     3     4  <NA>  <NA>\n",
      "three  <NA>  <NA>  <NA>  <NA>  <NA>     5     6\n"
     ]
    }
   ],
   "source": [
    "result = pd.concat([s1, s2, s3], keys=[\"one\", \"two\", \"three\"])\n",
    "print(result)\n",
    "print(result.unstack())"
   ]
  },
  {
   "cell_type": "markdown",
   "metadata": {},
   "source": [
    "<h3><b>Task 11 </b></h3>\n",
    "<p>\n",
    "Combining Data with Overlap. </br>\n",
    "Use numpy.where() method to produce an output array where NA values in Series 'a' are replaced with values from Series 'b', without checking whether the index labels are aligned or not</br>\n",
    "</p>\n"
   ]
  },
  {
   "cell_type": "code",
   "execution_count": 16,
   "metadata": {},
   "outputs": [
    {
     "name": "stdout",
     "output_type": "stream",
     "text": [
      "f    0.0\n",
      "e    2.5\n",
      "d    0.0\n",
      "c    3.5\n",
      "b    4.5\n",
      "a    5.0\n",
      "dtype: float64\n"
     ]
    }
   ],
   "source": [
    "import numpy as np\n",
    "import pandas as pd\n",
    "\n",
    "a = pd.Series([np.nan, 2.5, 0.0, 3.5, 4.5, np.nan],\n",
    "              index=[\"f\", \"e\", \"d\", \"c\", \"b\", \"a\"])\n",
    "\n",
    "b = pd.Series([0., np.nan, 2., np.nan, np.nan, 5.],\n",
    "              index=[\"a\", \"b\", \"c\", \"d\", \"e\", \"f\"])\n",
    "\n",
    "# Use numpy.where without aligning on index\n",
    "result = pd.Series(np.where(pd.isna(a.values), b.values, a.values), index=a.index)\n",
    "\n",
    "print(result)\n"
   ]
  },
  {
   "cell_type": "markdown",
   "metadata": {},
   "source": [
    "\n",
    "<h3><b>Task 12 </b></h3>\n",
    "<p>\n",
    "What if you want to line up the values by index?  </br>\n",
    "Use pandas.combine_first() method and analyze the result. </br>\n",
    "\n",
    "</p>\n"
   ]
  },
  {
   "cell_type": "code",
   "execution_count": 18,
   "metadata": {},
   "outputs": [
    {
     "name": "stdout",
     "output_type": "stream",
     "text": [
      "a    0.0\n",
      "b    4.5\n",
      "c    3.5\n",
      "d    0.0\n",
      "e    2.5\n",
      "f    5.0\n",
      "dtype: float64\n"
     ]
    }
   ],
   "source": [
    "import numpy as np\n",
    "import pandas as pd\n",
    "\n",
    "a = pd.Series([np.nan, 2.5, 0.0, 3.5, 4.5, np.nan],\n",
    "              index=[\"f\", \"e\", \"d\", \"c\", \"b\", \"a\"])\n",
    "\n",
    "b = pd.Series([0., np.nan, 2., np.nan, np.nan, 5.],\n",
    "              index=[\"a\", \"b\", \"c\", \"d\", \"e\", \"f\"])\n",
    "\n",
    "# Combine a with b using combine_first (aligns by index)\n",
    "result = a.combine_first(b)\n",
    "\n",
    "print(result)\n"
   ]
  },
  {
   "cell_type": "markdown",
   "metadata": {},
   "source": [
    "<h3><b>Task 13 </b></h3>\n",
    "<p>\n",
    "Now run pandas.combine_first() on below dataframes, analyze the result and how this method lines up the values by index. </br>\n",
    "</p>\n"
   ]
  },
  {
   "cell_type": "code",
   "execution_count": 19,
   "metadata": {},
   "outputs": [
    {
     "name": "stdout",
     "output_type": "stream",
     "text": [
      "     a    b     c\n",
      "0  1.0  NaN   2.0\n",
      "1  4.0  2.0   6.0\n",
      "2  5.0  4.0  10.0\n",
      "3  3.0  6.0  14.0\n",
      "4  7.0  8.0   NaN\n"
     ]
    }
   ],
   "source": [
    "import numpy as np\n",
    "import pandas as pd\n",
    "\n",
    "df1 = pd.DataFrame({\n",
    "    \"a\": [1., np.nan, 5., np.nan],\n",
    "    \"b\": [np.nan, 2., np.nan, 6.],\n",
    "    \"c\": range(2, 18, 4)\n",
    "})\n",
    "\n",
    "df2 = pd.DataFrame({\n",
    "    \"a\": [5., 4., np.nan, 3., 7.],\n",
    "    \"b\": [np.nan, 3., 4., 6., 8.]\n",
    "})\n",
    "\n",
    "# Combine with index and column alignment\n",
    "result = df1.combine_first(df2)\n",
    "print(result)\n"
   ]
  }
 ],
 "metadata": {
  "kernelspec": {
   "display_name": "Python 3",
   "language": "python",
   "name": "python3"
  },
  "language_info": {
   "codemirror_mode": {
    "name": "ipython",
    "version": 3
   },
   "file_extension": ".py",
   "mimetype": "text/x-python",
   "name": "python",
   "nbconvert_exporter": "python",
   "pygments_lexer": "ipython3",
   "version": "3.13.2"
  }
 },
 "nbformat": 4,
 "nbformat_minor": 2
}
