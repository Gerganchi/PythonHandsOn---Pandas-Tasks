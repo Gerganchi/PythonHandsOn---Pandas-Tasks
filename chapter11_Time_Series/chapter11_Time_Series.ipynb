{
 "cells": [
  {
   "cell_type": "markdown",
   "metadata": {},
   "source": [
    "Readme:\n",
    "\n",
    "\n",
    "We encourage you to explore more functionalities in 'Python for Data Analysis, 3E' by Wes McKinney, Chapter 11: 'Time Series'.</br>\n",
    "Link: https://wesmckinney.com/book/time-series"
   ]
  },
  {
   "cell_type": "code",
   "execution_count": 1,
   "metadata": {},
   "outputs": [],
   "source": [
    "import numpy as np\n",
    "import pandas as pd\n",
    "from datetime import datetime"
   ]
  },
  {
   "cell_type": "markdown",
   "metadata": {},
   "source": [
    "<h3><b>Task 1 </b></h3>\n",
    "<p>\n",
    "pandas is generally oriented toward working with arrays of dates, whether used as an axis index or a column in a DataFrame.  </br>\n",
    "The pandas.to_datetime method parses many different kinds of date representations. Standard date formats like ISO 8601 can be parsed quickly. </br>\n",
    "Run below code and analyze the data type it returns. </br>\n",
    "</p>\n"
   ]
  },
  {
   "cell_type": "code",
   "execution_count": 3,
   "metadata": {},
   "outputs": [
    {
     "name": "stdout",
     "output_type": "stream",
     "text": [
      "DatetimeIndex(['2011-07-06 12:00:00', '2011-08-06 00:00:00'], dtype='datetime64[ns]', freq=None)\n",
      "<class 'pandas.core.indexes.datetimes.DatetimeIndex'>\n"
     ]
    }
   ],
   "source": [
    "import pandas as pd\n",
    "\n",
    "datestrs = [\"2011-07-06 12:00:00\", \"2011-08-06 00:00:00\"]\n",
    "dt = pd.to_datetime(datestrs)\n",
    "print(dt)\n",
    "print(type(dt))\n"
   ]
  },
  {
   "cell_type": "markdown",
   "metadata": {},
   "source": [
    "<h3><b>Task 2 </b></h3>\n",
    "<p>\n",
    "Scalar values from a DatetimeIndex are pandas Timestamp objects.</br>\n",
    "Now print the second item from the DatetimeIndex array and see what date type it is.</br></br>\n",
    "\n",
    "Note: A pandas.Timestamp can be substituted most places where you would use a datetime object. The reverse is not true, however, because pandas.Timestamp can store nanosecond precision data, while datetime stores only up to microseconds. </br>\n",
    "Additionally, pandas.Timestamp can store frequency information (if any) and understands how to do time zone conversions and other kinds of manipulation </br>\n",
    "</p>\n"
   ]
  },
  {
   "cell_type": "code",
   "execution_count": 4,
   "metadata": {},
   "outputs": [
    {
     "name": "stdout",
     "output_type": "stream",
     "text": [
      "2011-08-06 00:00:00\n",
      "<class 'pandas._libs.tslibs.timestamps.Timestamp'>\n"
     ]
    }
   ],
   "source": [
    "import pandas as pd\n",
    "\n",
    "datestrs = [\"2011-07-06 12:00:00\", \"2011-08-06 00:00:00\"]\n",
    "dt = pd.to_datetime(datestrs)\n",
    "\n",
    "# Access and print the second item\n",
    "second_item = dt[1]\n",
    "print(second_item)\n",
    "print(type(second_item))\n"
   ]
  },
  {
   "cell_type": "markdown",
   "metadata": {},
   "source": [
    "<h3><b>Task 3 </b></h3>\n",
    "<p>\n",
    "Now run below to display how the None value is parsed. What does 'NaT' mean? </br>\n",
    "Then run isna() on the 'idx' and analyze the output.</br>\n",
    "</p>\n"
   ]
  },
  {
   "cell_type": "code",
   "execution_count": 6,
   "metadata": {},
   "outputs": [
    {
     "name": "stdout",
     "output_type": "stream",
     "text": [
      "DatetimeIndex(['2011-07-06 12:00:00', '2011-08-06 00:00:00', 'NaT'], dtype='datetime64[ns]', freq=None)\n",
      "[False False  True]\n"
     ]
    }
   ],
   "source": [
    "import pandas as pd\n",
    "\n",
    "datestrs = [\"2011-07-06 12:00:00\", \"2011-08-06 00:00:00\"]\n",
    "idx = pd.to_datetime(datestrs + [None])\n",
    "\n",
    "print(idx)\n",
    "print(pd.isna(idx))\n"
   ]
  },
  {
   "cell_type": "markdown",
   "metadata": {},
   "source": [
    "<h3><b>Task 4 </b></h3>\n",
    "<p>\n",
    "Create a Series with length 1000 populated by random numbers with date index starting from 2000-01-01. </br>\n",
    "</p>\n"
   ]
  },
  {
   "cell_type": "code",
   "execution_count": null,
   "metadata": {},
   "outputs": [
    {
     "name": "stdout",
     "output_type": "stream",
     "text": [
      "2000-01-01    2.349186\n",
      "2000-01-02    0.259037\n",
      "2000-01-03   -0.350644\n",
      "2000-01-04   -1.644959\n",
      "2000-01-05   -0.521223\n",
      "Freq: D, dtype: float64\n"
     ]
    }
   ],
   "source": [
    "import pandas as pd\n",
    "import numpy as np\n",
    "\n",
    "# Create date range\n",
    "date_index = pd.date_range(start=\"2000-01-01\", periods=1000)\n",
    "\n",
    "# Generate random numbers\n",
    "random_series = pd.Series(np.random.randn(1000), index=date_index)\n",
    "\n",
    "print(random_series.head())\n"
   ]
  },
  {
   "cell_type": "markdown",
   "metadata": {},
   "source": [
    "<h3><b>Task 5 </b></h3>\n",
    "<p>\n",
    "Select data where index contains '2002'. </br>\n",
    "</p>\n"
   ]
  },
  {
   "cell_type": "code",
   "execution_count": 11,
   "metadata": {},
   "outputs": [
    {
     "name": "stdout",
     "output_type": "stream",
     "text": [
      "2002-01-01    0.596732\n",
      "2002-01-02    0.199104\n",
      "2002-01-03   -1.980473\n",
      "2002-01-04    1.020998\n",
      "2002-01-05   -0.728190\n",
      "                ...   \n",
      "2002-09-22   -0.826895\n",
      "2002-09-23   -0.726109\n",
      "2002-09-24    1.636765\n",
      "2002-09-25    1.151573\n",
      "2002-09-26    2.067038\n",
      "Freq: D, Length: 269, dtype: float64\n"
     ]
    }
   ],
   "source": [
    "# Select data from the year 2002\n",
    "data_2002 = random_series[\"2002\"]\n",
    "\n",
    "print(data_2002)\n"
   ]
  },
  {
   "cell_type": "markdown",
   "metadata": {},
   "source": [
    "<h3><b>Task 6 </b></h3>\n",
    "<p>\n",
    "Remove data after 2001-01-01 and display the result</br>\n",
    "</p>\n"
   ]
  },
  {
   "cell_type": "code",
   "execution_count": 12,
   "metadata": {},
   "outputs": [
    {
     "name": "stdout",
     "output_type": "stream",
     "text": [
      "2000-01-01    2.349186\n",
      "2000-01-02    0.259037\n",
      "2000-01-03   -0.350644\n",
      "2000-01-04   -1.644959\n",
      "2000-01-05   -0.521223\n",
      "                ...   \n",
      "2000-12-28   -0.551923\n",
      "2000-12-29    0.502325\n",
      "2000-12-30    0.657067\n",
      "2000-12-31   -1.061003\n",
      "2001-01-01   -2.549900\n",
      "Freq: D, Length: 367, dtype: float64\n"
     ]
    }
   ],
   "source": [
    "# Keep data up to and including 2001-01-01\n",
    "filtered_data = random_series[: \"2001-01-01\"]\n",
    "\n",
    "print(filtered_data)\n"
   ]
  },
  {
   "cell_type": "markdown",
   "metadata": {},
   "source": [
    "<h3><b>Task 7 </b></h3>\n",
    "<p>\n",
    "Create a DatetimeIndex with length 100 starting from 2000-01-01 with weekly frequency (Tuesdays). </br>\n",
    "</p>\n"
   ]
  },
  {
   "cell_type": "code",
   "execution_count": 13,
   "metadata": {},
   "outputs": [
    {
     "name": "stdout",
     "output_type": "stream",
     "text": [
      "DatetimeIndex(['2000-01-04', '2000-01-11', '2000-01-18', '2000-01-25',\n",
      "               '2000-02-01', '2000-02-08', '2000-02-15', '2000-02-22',\n",
      "               '2000-02-29', '2000-03-07', '2000-03-14', '2000-03-21',\n",
      "               '2000-03-28', '2000-04-04', '2000-04-11', '2000-04-18',\n",
      "               '2000-04-25', '2000-05-02', '2000-05-09', '2000-05-16',\n",
      "               '2000-05-23', '2000-05-30', '2000-06-06', '2000-06-13',\n",
      "               '2000-06-20', '2000-06-27', '2000-07-04', '2000-07-11',\n",
      "               '2000-07-18', '2000-07-25', '2000-08-01', '2000-08-08',\n",
      "               '2000-08-15', '2000-08-22', '2000-08-29', '2000-09-05',\n",
      "               '2000-09-12', '2000-09-19', '2000-09-26', '2000-10-03',\n",
      "               '2000-10-10', '2000-10-17', '2000-10-24', '2000-10-31',\n",
      "               '2000-11-07', '2000-11-14', '2000-11-21', '2000-11-28',\n",
      "               '2000-12-05', '2000-12-12', '2000-12-19', '2000-12-26',\n",
      "               '2001-01-02', '2001-01-09', '2001-01-16', '2001-01-23',\n",
      "               '2001-01-30', '2001-02-06', '2001-02-13', '2001-02-20',\n",
      "               '2001-02-27', '2001-03-06', '2001-03-13', '2001-03-20',\n",
      "               '2001-03-27', '2001-04-03', '2001-04-10', '2001-04-17',\n",
      "               '2001-04-24', '2001-05-01', '2001-05-08', '2001-05-15',\n",
      "               '2001-05-22', '2001-05-29', '2001-06-05', '2001-06-12',\n",
      "               '2001-06-19', '2001-06-26', '2001-07-03', '2001-07-10',\n",
      "               '2001-07-17', '2001-07-24', '2001-07-31', '2001-08-07',\n",
      "               '2001-08-14', '2001-08-21', '2001-08-28', '2001-09-04',\n",
      "               '2001-09-11', '2001-09-18', '2001-09-25', '2001-10-02',\n",
      "               '2001-10-09', '2001-10-16', '2001-10-23', '2001-10-30',\n",
      "               '2001-11-06', '2001-11-13', '2001-11-20', '2001-11-27'],\n",
      "              dtype='datetime64[ns]', freq='W-TUE')\n"
     ]
    }
   ],
   "source": [
    "import pandas as pd\n",
    "\n",
    "# Create a DatetimeIndex with weekly frequency on Tuesdays\n",
    "dt_index = pd.date_range(start=\"2000-01-01\", periods=100, freq=\"W-TUE\")\n",
    "\n",
    "print(dt_index)\n"
   ]
  },
  {
   "cell_type": "markdown",
   "metadata": {},
   "source": [
    "\n",
    "<h3><b>Task 8 </b></h3>\n",
    "<p>\n",
    "Generating Date Ranges.\n",
    "By default, pandas.date_range generates daily timestamps.\n",
    "Create a DatetimeIndex in range from 2000-01-01 to 2000-12-01 with frequency 'business end of month'. </br>\n",
    "</p>\n"
   ]
  },
  {
   "cell_type": "code",
   "execution_count": 17,
   "metadata": {},
   "outputs": [
    {
     "name": "stdout",
     "output_type": "stream",
     "text": [
      "DatetimeIndex(['2000-01-31', '2000-02-29', '2000-03-31', '2000-04-28',\n",
      "               '2000-05-31', '2000-06-30', '2000-07-31', '2000-08-31',\n",
      "               '2000-09-29', '2000-10-31', '2000-11-30'],\n",
      "              dtype='datetime64[ns]', freq='BME')\n"
     ]
    }
   ],
   "source": [
    "import pandas as pd\n",
    "\n",
    "# Generate date range with business month end frequency using 'BME'\n",
    "dt_index = pd.date_range(start=\"2000-01-01\", end=\"2000-12-01\", freq=\"BME\")\n",
    "\n",
    "print(dt_index)\n"
   ]
  },
  {
   "cell_type": "markdown",
   "metadata": {},
   "source": [
    "<h3><b>Task 9 </b></h3>\n",
    "<p>\n",
    "pandas.date_range by default preserves the time (if any) of the start or end timestamp.</br>\n",
    "Run below code and see the start and end date values. </br>\n",
    "</p>\n"
   ]
  },
  {
   "cell_type": "code",
   "execution_count": 18,
   "metadata": {},
   "outputs": [
    {
     "data": {
      "text/plain": [
       "DatetimeIndex(['2012-05-02 12:56:31', '2012-05-03 12:56:31',\n",
       "               '2012-05-04 12:56:31', '2012-05-05 12:56:31',\n",
       "               '2012-05-06 12:56:31'],\n",
       "              dtype='datetime64[ns]', freq='D')"
      ]
     },
     "execution_count": 18,
     "metadata": {},
     "output_type": "execute_result"
    }
   ],
   "source": [
    "pd.date_range(\"2012-05-02 12:56:31\", periods=5)"
   ]
  },
  {
   "cell_type": "markdown",
   "metadata": {},
   "source": [
    "<h3><b>Task 10 </b></h3>\n",
    "<p>\n",
    "Sometimes you will have start or end dates with time information but want to generate a set of timestamps normalized to midnight as a convention. </br>\n",
    "To do this, there is a normalize option - run below and analyze the output. </br>\n",
    "</p>\n"
   ]
  },
  {
   "cell_type": "code",
   "execution_count": 19,
   "metadata": {},
   "outputs": [
    {
     "data": {
      "text/plain": [
       "DatetimeIndex(['2012-05-02', '2012-05-03', '2012-05-04', '2012-05-05',\n",
       "               '2012-05-06'],\n",
       "              dtype='datetime64[ns]', freq='D')"
      ]
     },
     "execution_count": 19,
     "metadata": {},
     "output_type": "execute_result"
    }
   ],
   "source": [
    "pd.date_range(\"2012-05-02 12:56:31\", periods=5, normalize=True)"
   ]
  },
  {
   "cell_type": "markdown",
   "metadata": {},
   "source": [
    "<h3><b>Task 11 </b></h3>\n",
    "<p>\n",
    "Frequencies and Date Offsets. </br>\n",
    "1. Create a DatetimeIndex in range from 2000-01-01 to 2000-01-03 23:59 with frequency '6 hours'. </br>\n",
    "2. Then change the frequency to '2 hours and 30 minutes'. </br>\n",
    "\n",
    "</p>\n"
   ]
  },
  {
   "cell_type": "code",
   "execution_count": 22,
   "metadata": {},
   "outputs": [
    {
     "name": "stdout",
     "output_type": "stream",
     "text": [
      "6-hour frequency:\n",
      "DatetimeIndex(['2000-01-01 00:00:00', '2000-01-01 06:00:00',\n",
      "               '2000-01-01 12:00:00', '2000-01-01 18:00:00',\n",
      "               '2000-01-02 00:00:00', '2000-01-02 06:00:00',\n",
      "               '2000-01-02 12:00:00', '2000-01-02 18:00:00',\n",
      "               '2000-01-03 00:00:00', '2000-01-03 06:00:00',\n",
      "               '2000-01-03 12:00:00', '2000-01-03 18:00:00'],\n",
      "              dtype='datetime64[ns]', freq='6h')\n",
      "\n",
      "2 hours 30 minutes frequency:\n",
      "DatetimeIndex(['2000-01-01 00:00:00', '2000-01-01 02:30:00',\n",
      "               '2000-01-01 05:00:00', '2000-01-01 07:30:00',\n",
      "               '2000-01-01 10:00:00', '2000-01-01 12:30:00',\n",
      "               '2000-01-01 15:00:00', '2000-01-01 17:30:00',\n",
      "               '2000-01-01 20:00:00', '2000-01-01 22:30:00',\n",
      "               '2000-01-02 01:00:00', '2000-01-02 03:30:00',\n",
      "               '2000-01-02 06:00:00', '2000-01-02 08:30:00',\n",
      "               '2000-01-02 11:00:00', '2000-01-02 13:30:00',\n",
      "               '2000-01-02 16:00:00', '2000-01-02 18:30:00',\n",
      "               '2000-01-02 21:00:00', '2000-01-02 23:30:00',\n",
      "               '2000-01-03 02:00:00', '2000-01-03 04:30:00',\n",
      "               '2000-01-03 07:00:00', '2000-01-03 09:30:00',\n",
      "               '2000-01-03 12:00:00', '2000-01-03 14:30:00',\n",
      "               '2000-01-03 17:00:00', '2000-01-03 19:30:00',\n",
      "               '2000-01-03 22:00:00'],\n",
      "              dtype='datetime64[ns]', freq='150min')\n"
     ]
    }
   ],
   "source": [
    "import pandas as pd\n",
    "\n",
    "# 1. Create DatetimeIndex with 6-hour frequency using lowercase 'h'\n",
    "dt_index_6h = pd.date_range(start=\"2000-01-01\", end=\"2000-01-03 23:59\", freq=\"6h\")\n",
    "print(\"6-hour frequency:\")\n",
    "print(dt_index_6h)\n",
    "\n",
    "# 2. Create DatetimeIndex with 2 hours 30 minutes frequency using lowercase 'h'\n",
    "dt_index_2h30 = pd.date_range(start=\"2000-01-01\", end=\"2000-01-03 23:59\", freq=\"2h30min\")\n",
    "print(\"\\n2 hours 30 minutes frequency:\")\n",
    "print(dt_index_2h30)\n"
   ]
  },
  {
   "cell_type": "markdown",
   "metadata": {},
   "source": [
    "<h3><b>Task 12 </b></h3>\n",
    "<p>\n",
    "Now create a DatetimeIndex in range from 2012-01-01 to 2012-09-01 and get fourth Wednesday of each month. </br>\n",
    "</p>\n"
   ]
  },
  {
   "cell_type": "code",
   "execution_count": 23,
   "metadata": {},
   "outputs": [
    {
     "name": "stdout",
     "output_type": "stream",
     "text": [
      "DatetimeIndex(['2012-01-18', '2012-02-22', '2012-03-21', '2012-04-18',\n",
      "               '2012-05-16', '2012-06-20', '2012-07-18', '2012-08-22',\n",
      "               '2012-09-19'],\n",
      "              dtype='datetime64[ns]', freq=None)\n"
     ]
    }
   ],
   "source": [
    "import pandas as pd\n",
    "from pandas.tseries.offsets import Week, MonthBegin\n",
    "\n",
    "# Create a date range starting from the first day of each month between Jan and Sep 2012\n",
    "month_starts = pd.date_range(start='2012-01-01', end='2012-09-01', freq='MS')\n",
    "\n",
    "# Calculate the 4th Wednesday of each month:\n",
    "#  - Start at first day of month\n",
    "#  - Add offset for Wednesday of the 4th week\n",
    "fourth_wednesdays = month_starts + Week(weekday=2) * 3  # 0-based, so 3 weeks after first Wed is 4th Wed\n",
    "\n",
    "print(fourth_wednesdays)\n"
   ]
  },
  {
   "cell_type": "markdown",
   "metadata": {},
   "source": [
    "<h3><b>Task 13</b></h3>\n",
    "<p>\n",
    "Periods and Period Arithmetic. </br>\n",
    "1. Create a pandas.Period that represents the full time span from January 1, 2011, to December 31, 2011, inclusive.</br>\n",
    "2. Then add 5 to it and analyze the result.</br>\n",
    "</p>\n"
   ]
  },
  {
   "cell_type": "code",
   "execution_count": 24,
   "metadata": {},
   "outputs": [
    {
     "name": "stdout",
     "output_type": "stream",
     "text": [
      "Original Period: 2011\n",
      "Period after adding 5: 2016\n"
     ]
    }
   ],
   "source": [
    "import pandas as pd\n",
    "\n",
    "# 1. Create a Period representing the full year 2011\n",
    "p = pd.Period('2011', freq='Y')  # 'Y' for yearly frequency\n",
    "\n",
    "print(\"Original Period:\", p)\n",
    "\n",
    "# 2. Add 5 periods (years) to it\n",
    "p_added = p + 5\n",
    "\n",
    "print(\"Period after adding 5:\", p_added)\n"
   ]
  },
  {
   "cell_type": "markdown",
   "metadata": {},
   "source": [
    "<h3><b>Task 14 </b></h3>\n",
    "<p>\n",
    "Compare period and date range. </br>\n",
    "Run below code and analyze the result.\n",
    "</p>\n"
   ]
  },
  {
   "cell_type": "code",
   "execution_count": 26,
   "metadata": {},
   "outputs": [
    {
     "name": "stdout",
     "output_type": "stream",
     "text": [
      "PeriodIndex:\n",
      "PeriodIndex(['2000-01', '2000-02', '2000-03', '2000-04', '2000-05', '2000-06'], dtype='period[M]')\n",
      "\n",
      "DatetimeIndex:\n",
      "DatetimeIndex(['2000-01-31', '2000-02-29', '2000-03-31', '2000-04-30',\n",
      "               '2000-05-31', '2000-06-30'],\n",
      "              dtype='datetime64[ns]', freq='ME')\n"
     ]
    }
   ],
   "source": [
    "import pandas as pd\n",
    "\n",
    "# Creating a PeriodIndex with monthly frequency\n",
    "periods = pd.period_range(\"2000-01-01\", \"2000-06-30\", freq=\"M\") \n",
    "\n",
    "# Creating a DatetimeIndex with monthly frequency (end of month)\n",
    "dt = pd.date_range(\"2000-01-01\", \"2000-06-30\", freq=\"ME\")  # use 'ME' instead of deprecated 'M'\n",
    "\n",
    "print(\"PeriodIndex:\")\n",
    "print(periods)\n",
    "print(\"\\nDatetimeIndex:\")\n",
    "print(dt)\n"
   ]
  },
  {
   "cell_type": "markdown",
   "metadata": {},
   "source": [
    "<h3><b>Task 15 </b></h3>\n",
    "<p>\n",
    "Run below and analyze the output. </br>\n",
    "Think of how could you use these functionalities in real life. </br>\n",
    "\n",
    "</p>\n"
   ]
  },
  {
   "cell_type": "code",
   "execution_count": 27,
   "metadata": {},
   "outputs": [
    {
     "name": "stdout",
     "output_type": "stream",
     "text": [
      "PeriodIndex(['2001Q3', '2002Q2', '2003Q1'], dtype='period[Q-DEC]')\n"
     ]
    }
   ],
   "source": [
    "values = [\"2001Q3\", \"2002Q2\", \"2003Q1\"]\n",
    "index = pd.PeriodIndex(values, freq=\"Q-DEC\") \n",
    "\n",
    "print(index)"
   ]
  }
 ],
 "metadata": {
  "kernelspec": {
   "display_name": "Python 3",
   "language": "python",
   "name": "python3"
  },
  "language_info": {
   "codemirror_mode": {
    "name": "ipython",
    "version": 3
   },
   "file_extension": ".py",
   "mimetype": "text/x-python",
   "name": "python",
   "nbconvert_exporter": "python",
   "pygments_lexer": "ipython3",
   "version": "3.13.2"
  }
 },
 "nbformat": 4,
 "nbformat_minor": 2
}
