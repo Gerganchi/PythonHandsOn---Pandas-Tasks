{
 "cells": [
  {
   "cell_type": "markdown",
   "metadata": {},
   "source": [
    "Readme:\n",
    "\n",
    "\n",
    "We encourage you to explore more functionalities in 'Python for Data Analysis, 3E' by Wes McKinney, Chapter 5: 'Getting Started with pandas'.</br>\n",
    "Link: https://wesmckinney.com/book/pandas-basics"
   ]
  },
  {
   "cell_type": "code",
   "execution_count": 1,
   "metadata": {},
   "outputs": [
    {
     "name": "stdout",
     "output_type": "stream",
     "text": [
      "Collecting pandas\n",
      "  Downloading pandas-2.2.3-cp313-cp313-win_amd64.whl.metadata (19 kB)\n",
      "Requirement already satisfied: numpy>=1.26.0 in c:\\users\\gergana.boycheva\\appdata\\local\\programs\\python\\python313\\lib\\site-packages (from pandas) (2.2.6)\n",
      "Requirement already satisfied: python-dateutil>=2.8.2 in c:\\users\\gergana.boycheva\\appdata\\roaming\\python\\python313\\site-packages (from pandas) (2.9.0.post0)\n",
      "Collecting pytz>=2020.1 (from pandas)\n",
      "  Using cached pytz-2025.2-py2.py3-none-any.whl.metadata (22 kB)\n",
      "Collecting tzdata>=2022.7 (from pandas)\n",
      "  Using cached tzdata-2025.2-py2.py3-none-any.whl.metadata (1.4 kB)\n",
      "Requirement already satisfied: six>=1.5 in c:\\users\\gergana.boycheva\\appdata\\roaming\\python\\python313\\site-packages (from python-dateutil>=2.8.2->pandas) (1.17.0)\n",
      "Downloading pandas-2.2.3-cp313-cp313-win_amd64.whl (11.5 MB)\n",
      "   ---------------------------------------- 0.0/11.5 MB ? eta -:--:--\n",
      "   ---------- ----------------------------- 3.1/11.5 MB 19.7 MB/s eta 0:00:01\n",
      "   ------------------------- -------------- 7.3/11.5 MB 20.1 MB/s eta 0:00:01\n",
      "   ---------------------------------------  11.3/11.5 MB 20.7 MB/s eta 0:00:01\n",
      "   ---------------------------------------- 11.5/11.5 MB 16.1 MB/s eta 0:00:00\n",
      "Using cached pytz-2025.2-py2.py3-none-any.whl (509 kB)\n",
      "Using cached tzdata-2025.2-py2.py3-none-any.whl (347 kB)\n",
      "Installing collected packages: pytz, tzdata, pandas\n",
      "\n",
      "   ---------------------------------------- 0/3 [pytz]\n",
      "   ------------- -------------------------- 1/3 [tzdata]\n",
      "   ------------- -------------------------- 1/3 [tzdata]\n",
      "   -------------------------- ------------- 2/3 [pandas]\n",
      "   -------------------------- ------------- 2/3 [pandas]\n",
      "   -------------------------- ------------- 2/3 [pandas]\n",
      "   -------------------------- ------------- 2/3 [pandas]\n",
      "   -------------------------- ------------- 2/3 [pandas]\n",
      "   -------------------------- ------------- 2/3 [pandas]\n",
      "   -------------------------- ------------- 2/3 [pandas]\n",
      "   -------------------------- ------------- 2/3 [pandas]\n",
      "   -------------------------- ------------- 2/3 [pandas]\n",
      "   -------------------------- ------------- 2/3 [pandas]\n",
      "   -------------------------- ------------- 2/3 [pandas]\n",
      "   -------------------------- ------------- 2/3 [pandas]\n",
      "   -------------------------- ------------- 2/3 [pandas]\n",
      "   -------------------------- ------------- 2/3 [pandas]\n",
      "   -------------------------- ------------- 2/3 [pandas]\n",
      "   -------------------------- ------------- 2/3 [pandas]\n",
      "   -------------------------- ------------- 2/3 [pandas]\n",
      "   -------------------------- ------------- 2/3 [pandas]\n",
      "   -------------------------- ------------- 2/3 [pandas]\n",
      "   -------------------------- ------------- 2/3 [pandas]\n",
      "   -------------------------- ------------- 2/3 [pandas]\n",
      "   -------------------------- ------------- 2/3 [pandas]\n",
      "   -------------------------- ------------- 2/3 [pandas]\n",
      "   -------------------------- ------------- 2/3 [pandas]\n",
      "   -------------------------- ------------- 2/3 [pandas]\n",
      "   -------------------------- ------------- 2/3 [pandas]\n",
      "   -------------------------- ------------- 2/3 [pandas]\n",
      "   -------------------------- ------------- 2/3 [pandas]\n",
      "   -------------------------- ------------- 2/3 [pandas]\n",
      "   -------------------------- ------------- 2/3 [pandas]\n",
      "   -------------------------- ------------- 2/3 [pandas]\n",
      "   -------------------------- ------------- 2/3 [pandas]\n",
      "   -------------------------- ------------- 2/3 [pandas]\n",
      "   -------------------------- ------------- 2/3 [pandas]\n",
      "   -------------------------- ------------- 2/3 [pandas]\n",
      "   -------------------------- ------------- 2/3 [pandas]\n",
      "   -------------------------- ------------- 2/3 [pandas]\n",
      "   -------------------------- ------------- 2/3 [pandas]\n",
      "   -------------------------- ------------- 2/3 [pandas]\n",
      "   -------------------------- ------------- 2/3 [pandas]\n",
      "   -------------------------- ------------- 2/3 [pandas]\n",
      "   ---------------------------------------- 3/3 [pandas]\n",
      "\n",
      "Successfully installed pandas-2.2.3 pytz-2025.2 tzdata-2025.2\n"
     ]
    }
   ],
   "source": [
    "!pip install pandas"
   ]
  },
  {
   "cell_type": "code",
   "execution_count": 2,
   "metadata": {},
   "outputs": [],
   "source": [
    "import numpy as np\n",
    "import pandas as pd"
   ]
  },
  {
   "cell_type": "markdown",
   "metadata": {},
   "source": [
    "<h3><b>Task 1 </b></h3>\n",
    "<p>\n",
    "Create a one-dimentional Series object with values 4, 7, -5, 3 and index \"d\", \"b\", \"a\", \"c\". </br>\n",
    "Return its values, then return its index.\n",
    "</p>\n"
   ]
  },
  {
   "cell_type": "code",
   "execution_count": 3,
   "metadata": {},
   "outputs": [
    {
     "name": "stdout",
     "output_type": "stream",
     "text": [
      "Values: [ 4  7 -5  3]\n",
      "Index: Index(['d', 'b', 'a', 'c'], dtype='object')\n"
     ]
    }
   ],
   "source": [
    "import pandas as pd\n",
    "\n",
    "# Create Series\n",
    "data = pd.Series([4, 7, -5, 3], index=[\"d\", \"b\", \"a\", \"c\"])\n",
    "\n",
    "# Return values\n",
    "print(\"Values:\", data.values)\n",
    "\n",
    "# Return index\n",
    "print(\"Index:\", data.index)\n"
   ]
  },
  {
   "cell_type": "markdown",
   "metadata": {},
   "source": [
    "<h3><b>Task 2 </b></h3>\n",
    "<p>\n",
    "Return the values from the above PandasArray that are greater than zero. </br>\n",
    "</p>\n"
   ]
  },
  {
   "cell_type": "code",
   "execution_count": 4,
   "metadata": {},
   "outputs": [
    {
     "name": "stdout",
     "output_type": "stream",
     "text": [
      "d    4\n",
      "b    7\n",
      "c    3\n",
      "dtype: int64\n"
     ]
    }
   ],
   "source": [
    "import pandas as pd\n",
    "\n",
    "# Create Series\n",
    "data = pd.Series([4, 7, -5, 3], index=[\"d\", \"b\", \"a\", \"c\"])\n",
    "\n",
    "# Filter values greater than 0\n",
    "positive_values = data[data > 0]\n",
    "\n",
    "print(positive_values)\n"
   ]
  },
  {
   "cell_type": "markdown",
   "metadata": {},
   "source": [
    "<h3><b>Task 3 </b></h3>\n",
    "<p>\n",
    "Multiply each element in the Series object created above by 3. </br>\n",
    "</p>\n"
   ]
  },
  {
   "cell_type": "code",
   "execution_count": 5,
   "metadata": {},
   "outputs": [
    {
     "name": "stdout",
     "output_type": "stream",
     "text": [
      "d    12\n",
      "b    21\n",
      "a   -15\n",
      "c     9\n",
      "dtype: int64\n"
     ]
    }
   ],
   "source": [
    "import pandas as pd\n",
    "\n",
    "# Create Series\n",
    "data = pd.Series([4, 7, -5, 3], index=[\"d\", \"b\", \"a\", \"c\"])\n",
    "\n",
    "# Multiply each element by 3\n",
    "multiplied = data * 3\n",
    "\n",
    "print(multiplied)\n"
   ]
  },
  {
   "cell_type": "markdown",
   "metadata": {},
   "source": [
    "<h3><b>Task 4 </b></h3>\n",
    "<p>\n",
    "Another way to think about a Series is as a fixed-length, ordered dictionary, as it is a mapping of index values to data values. It can be used in many contexts where you might use a dictionary.</br>\n",
    "E.g. we use dictionary key (not the value) to evaluate its presense.</br>\n",
    "Try to find if value '-5' is in the Series first by using the value itself, then using its index.\n",
    "\n",
    "</p>\n"
   ]
  },
  {
   "cell_type": "code",
   "execution_count": 6,
   "metadata": {},
   "outputs": [
    {
     "name": "stdout",
     "output_type": "stream",
     "text": [
      "Is -5 a value in the Series?: True\n",
      "Is 'a' an index in the Series?: True\n"
     ]
    }
   ],
   "source": [
    "import pandas as pd\n",
    "\n",
    "# Create Series\n",
    "data = pd.Series([4, 7, -5, 3], index=[\"d\", \"b\", \"a\", \"c\"])\n",
    "\n",
    "# Check if value -5 is in the Series (by value)\n",
    "value_check = -5 in data.values\n",
    "\n",
    "# Check if index 'a' (which holds -5) is in the Series (by index)\n",
    "index_check = 'a' in data\n",
    "\n",
    "print(\"Is -5 a value in the Series?:\", value_check)\n",
    "print(\"Is 'a' an index in the Series?:\", index_check)\n"
   ]
  },
  {
   "cell_type": "markdown",
   "metadata": {},
   "source": [
    "<h3><b>Task 5 </b></h3>\n",
    "<p>\n",
    "Should you have data contained in a Python dictionary, you can create a Series from it by passing the dictionary. A Series can be converted back to a dictionary with its to_dict method.</br>\n",
    "When you are only passing a dictionary, the index in the resulting Series will respect the order of the keys according to the dictionary's keys method, which depends on the key insertion order.  </br> </br>\n",
    "\n",
    "Create a Series out of 'sdata' and return the result.</br>\n",
    "Then use 'states' as index and return the result.</br>\n",
    "</p>\n"
   ]
  },
  {
   "cell_type": "code",
   "execution_count": 8,
   "metadata": {},
   "outputs": [
    {
     "name": "stdout",
     "output_type": "stream",
     "text": [
      "Series from sdata:\n",
      " Ohio      35000\n",
      "Texas     71000\n",
      "Oregon    16000\n",
      "Utah       5000\n",
      "dtype: int64\n",
      "\n",
      "Series with custom index 'states':\n",
      " California        NaN\n",
      "Ohio          35000.0\n",
      "Oregon        16000.0\n",
      "Texas         71000.0\n",
      "dtype: float64\n"
     ]
    }
   ],
   "source": [
    "import pandas as pd\n",
    "\n",
    "sdata = {\"Ohio\": 35000, \"Texas\": 71000, \"Oregon\": 16000, \"Utah\": 5000}\n",
    "states = [\"California\", \"Ohio\", \"Oregon\", \"Texas\"]\n",
    "\n",
    "# Create Series from sdata\n",
    "series1 = pd.Series(sdata)\n",
    "print(\"Series from sdata:\\n\", series1)\n",
    "\n",
    "# Create Series with states as index\n",
    "series2 = pd.Series(sdata, index=states)\n",
    "print(\"\\nSeries with custom index 'states':\\n\", series2)\n"
   ]
  },
  {
   "cell_type": "markdown",
   "metadata": {},
   "source": [
    "<h3><b>Task 6 </b></h3>\n",
    "<p>\n",
    "Return a boolean Series showing True where there is a missing value in the above Series. </br>\n",
    "</p>\n"
   ]
  },
  {
   "cell_type": "code",
   "execution_count": 9,
   "metadata": {},
   "outputs": [
    {
     "name": "stdout",
     "output_type": "stream",
     "text": [
      "Series with custom index:\n",
      "California        NaN\n",
      "Ohio          35000.0\n",
      "Oregon        16000.0\n",
      "Texas         71000.0\n",
      "dtype: float64\n",
      "\n",
      "Missing values (True = missing):\n",
      "California     True\n",
      "Ohio          False\n",
      "Oregon        False\n",
      "Texas         False\n",
      "dtype: bool\n"
     ]
    }
   ],
   "source": [
    "import pandas as pd\n",
    "\n",
    "# Given data\n",
    "sdata = {\"Ohio\": 35000, \"Texas\": 71000, \"Oregon\": 16000, \"Utah\": 5000}\n",
    "states = [\"California\", \"Ohio\", \"Oregon\", \"Texas\"]\n",
    "\n",
    "# Create a Series using sdata and states as the index\n",
    "series2 = pd.Series(sdata, index=states)\n",
    "print(\"Series with custom index:\")\n",
    "print(series2)\n",
    "\n",
    "# Identify missing values\n",
    "missing = series2.isna()\n",
    "print(\"\\nMissing values (True = missing):\")\n",
    "print(missing)\n"
   ]
  },
  {
   "cell_type": "markdown",
   "metadata": {},
   "source": [
    "<h3><b>Task 7 </b></h3>\n",
    "<p>\n",
    "Now return a boolean Series showing False where there is a missing value in the above Series. </br>\n",
    "</p>\n"
   ]
  },
  {
   "cell_type": "code",
   "execution_count": 10,
   "metadata": {},
   "outputs": [
    {
     "name": "stdout",
     "output_type": "stream",
     "text": [
      "Series with custom index:\n",
      "California        NaN\n",
      "Ohio          35000.0\n",
      "Oregon        16000.0\n",
      "Texas         71000.0\n",
      "dtype: float64\n",
      "\n",
      "Not missing values (False = missing):\n",
      "California    False\n",
      "Ohio           True\n",
      "Oregon         True\n",
      "Texas          True\n",
      "dtype: bool\n"
     ]
    }
   ],
   "source": [
    "import pandas as pd\n",
    "\n",
    "# Given data\n",
    "sdata = {\"Ohio\": 35000, \"Texas\": 71000, \"Oregon\": 16000, \"Utah\": 5000}\n",
    "states = [\"California\", \"Ohio\", \"Oregon\", \"Texas\"]\n",
    "\n",
    "# Create a Series using sdata and states as the index\n",
    "series2 = pd.Series(sdata, index=states)\n",
    "print(\"Series with custom index:\")\n",
    "print(series2)\n",
    "\n",
    "# Return False where there is a missing value\n",
    "not_missing = series2.notna()\n",
    "print(\"\\nNot missing values (False = missing):\")\n",
    "print(not_missing)\n"
   ]
  },
  {
   "cell_type": "markdown",
   "metadata": {},
   "source": [
    "<h3><b>Task 8 </b></h3>\n",
    "<p>\n",
    "1. Create a dataframe out of below dictionary. Before you do this, think if the dictionary keys will be the index or column names?</br>\n",
    "2. Add a new column to the dataframe name 'dept' with values in range of 6. </br>\n",
    "3. Add a new boolean column named 'eastern' with True value where 'state' is 'Ohio'.\n",
    "</p>\n"
   ]
  },
  {
   "cell_type": "code",
   "execution_count": 11,
   "metadata": {},
   "outputs": [
    {
     "name": "stdout",
     "output_type": "stream",
     "text": [
      "    state  year  pop  dept  eastern\n",
      "0    Ohio  2000  1.5     0     True\n",
      "1    Ohio  2001  1.7     1     True\n",
      "2    Ohio  2002  3.6     2     True\n",
      "3  Nevada  2001  2.4     3    False\n",
      "4  Nevada  2002  2.9     4    False\n",
      "5  Nevada  2003  3.2     5    False\n"
     ]
    }
   ],
   "source": [
    "import pandas as pd\n",
    "\n",
    "data = {\n",
    "    \"state\": [\"Ohio\", \"Ohio\", \"Ohio\", \"Nevada\", \"Nevada\", \"Nevada\"],\n",
    "    \"year\": [2000, 2001, 2002, 2001, 2002, 2003],\n",
    "    \"pop\": [1.5, 1.7, 3.6, 2.4, 2.9, 3.2]\n",
    "}\n",
    "\n",
    "df = pd.DataFrame(data)\n",
    "\n",
    "# Add new column 'dept'\n",
    "df['dept'] = range(6)\n",
    "\n",
    "# Add boolean column 'eastern' where state == 'Ohio'\n",
    "df['eastern'] = df['state'] == \"Ohio\"\n",
    "\n",
    "print(df)\n",
    "\n"
   ]
  },
  {
   "cell_type": "markdown",
   "metadata": {},
   "source": [
    "<h3><b>Task 9 </b></h3>\n",
    "<p>\n",
    "Use below nested dictionary to create a dataframe </br>\n",
    "Mind the outer dictionary keys and the inner dictionary keys - which ones are the index and which ones are the column names?\n",
    "</p>\n"
   ]
  },
  {
   "cell_type": "code",
   "execution_count": 12,
   "metadata": {},
   "outputs": [
    {
     "name": "stdout",
     "output_type": "stream",
     "text": [
      "      Ohio  Nevada\n",
      "2000   1.5     NaN\n",
      "2001   1.7     2.4\n",
      "2002   3.6     2.9\n"
     ]
    }
   ],
   "source": [
    "import pandas as pd\n",
    "\n",
    "populations = {\n",
    "    \"Ohio\": {2000: 1.5, 2001: 1.7, 2002: 3.6},\n",
    "    \"Nevada\": {2001: 2.4, 2002: 2.9}\n",
    "}\n",
    "\n",
    "df = pd.DataFrame(populations)\n",
    "print(df)\n"
   ]
  },
  {
   "cell_type": "markdown",
   "metadata": {},
   "source": [
    "<h3><b>Task 10 </b></h3>\n",
    "<p>\n",
    "Now swap the columns and the rows of the above dataframe. </br>\n",
    "</p>\n"
   ]
  },
  {
   "cell_type": "code",
   "execution_count": 13,
   "metadata": {},
   "outputs": [
    {
     "name": "stdout",
     "output_type": "stream",
     "text": [
      "        2000  2001  2002\n",
      "Ohio     1.5   1.7   3.6\n",
      "Nevada   NaN   2.4   2.9\n"
     ]
    }
   ],
   "source": [
    "import pandas as pd\n",
    "\n",
    "populations = {\n",
    "    \"Ohio\": {2000: 1.5, 2001: 1.7, 2002: 3.6},\n",
    "    \"Nevada\": {2001: 2.4, 2002: 2.9}\n",
    "}\n",
    "\n",
    "df = pd.DataFrame(populations)\n",
    "\n",
    "# Transpose the DataFrame\n",
    "df_transposed = df.T\n",
    "print(df_transposed)\n"
   ]
  },
  {
   "cell_type": "markdown",
   "metadata": {},
   "source": [
    "<h3><b>Task 11 </b></h3>\n",
    "<p>\n",
    "Convert above dataframe to numpy array. </br>\n",
    "</p>\n"
   ]
  },
  {
   "cell_type": "code",
   "execution_count": 14,
   "metadata": {},
   "outputs": [
    {
     "name": "stdout",
     "output_type": "stream",
     "text": [
      "[[1.5 1.7 3.6]\n",
      " [nan 2.4 2.9]]\n"
     ]
    }
   ],
   "source": [
    "import pandas as pd\n",
    "\n",
    "populations = {\n",
    "    \"Ohio\": {2000: 1.5, 2001: 1.7, 2002: 3.6},\n",
    "    \"Nevada\": {2001: 2.4, 2002: 2.9}\n",
    "}\n",
    "\n",
    "df = pd.DataFrame(populations)\n",
    "df_transposed = df.T\n",
    "\n",
    "# Convert to NumPy array\n",
    "array = df_transposed.to_numpy()\n",
    "print(array)\n"
   ]
  },
  {
   "cell_type": "markdown",
   "metadata": {},
   "source": [
    "<h3><b>Task 12 </b></h3>\n",
    "<p>\n",
    "1. Create a series out of values 4.5, 7.2, -5.3, 3.6 with index \"d\", \"b\", \"a\", \"c\". </br>\n",
    "2. Try to mutate the index by assigning a new value to index label 'a'. What kind of error do you receive? Analyze the result.</br>\n",
    "3. Try to change the index to \"a\", \"b\", \"c\", \"d\" using direct assignment. Does it work? It should, as you do NOT mutate existing index object, but create a new one (you may run id(df.index) to prove it).</br>\n",
    "4. Then try to directly assign values \"a\", \"b\", \"c\", \"d\", \"e\" (different length!) to the index. Do you receive an error? </br>\n",
    "5. Repeat the reassignment from step 4 by using 'reindex' technique and return the result. Observe the missing values in it.</br>\n",
    "</br>\n",
    "\n",
    "</p>"
   ]
  },
  {
   "cell_type": "code",
   "execution_count": 15,
   "metadata": {},
   "outputs": [
    {
     "name": "stdout",
     "output_type": "stream",
     "text": [
      "Original Series:\n",
      "d    4.5\n",
      "b    7.2\n",
      "a   -5.3\n",
      "c    3.6\n",
      "dtype: float64\n",
      "\n",
      "Trying to mutate a single index label:\n",
      "Error: Index does not support mutable operations\n",
      "\n",
      "Series after replacing the entire index:\n",
      "a    4.5\n",
      "b    7.2\n",
      "c   -5.3\n",
      "d    3.6\n",
      "dtype: float64\n",
      "\n",
      "Trying to assign index of different length:\n",
      "Error: Length mismatch: Expected axis has 4 elements, new values have 5 elements\n",
      "\n",
      "Series after reindexing with an extra label:\n",
      "a    4.5\n",
      "b    7.2\n",
      "c   -5.3\n",
      "d    3.6\n",
      "e    NaN\n",
      "dtype: float64\n"
     ]
    }
   ],
   "source": [
    "import pandas as pd\n",
    "\n",
    "# 1. Create a Series\n",
    "s = pd.Series([4.5, 7.2, -5.3, 3.6], index=[\"d\", \"b\", \"a\", \"c\"])\n",
    "print(\"Original Series:\")\n",
    "print(s)\n",
    "\n",
    "# 2. Try to mutate the index label 'a'\n",
    "print(\"\\nTrying to mutate a single index label:\")\n",
    "try:\n",
    "    s.index[2] = \"z\"  # Attempt to change label \"a\" to \"z\"\n",
    "except Exception as e:\n",
    "    print(\"Error:\", e)\n",
    "\n",
    "# 3. Change the whole index to new values of same length\n",
    "s.index = [\"a\", \"b\", \"c\", \"d\"]\n",
    "print(\"\\nSeries after replacing the entire index:\")\n",
    "print(s)\n",
    "\n",
    "# 4. Try assigning an index with different length\n",
    "print(\"\\nTrying to assign index of different length:\")\n",
    "try:\n",
    "    s.index = [\"a\", \"b\", \"c\", \"d\", \"e\"]\n",
    "except Exception as e:\n",
    "    print(\"Error:\", e)\n",
    "\n",
    "# 5. Use reindex to handle mismatched length\n",
    "s_reindexed = s.reindex([\"a\", \"b\", \"c\", \"d\", \"e\"])\n",
    "print(\"\\nSeries after reindexing with an extra label:\")\n",
    "print(s_reindexed)\n"
   ]
  },
  {
   "cell_type": "markdown",
   "metadata": {},
   "source": [
    "<h3><b>Task 13 </b></h3>\n",
    "<p>\n",
    "1. Create a series with values \"blue\", \"purple\", \"yellow\" and index 0, 2, 4. </br> \n",
    "2. Change the index to the range of 6 and observe the missing values.</br> \n",
    "3. Repeat step 2 using 'ffill' method to fill the missing values. Analyse the result. </br>\n",
    "\n",
    "</p>\n"
   ]
  },
  {
   "cell_type": "code",
   "execution_count": 16,
   "metadata": {},
   "outputs": [
    {
     "name": "stdout",
     "output_type": "stream",
     "text": [
      "Original Series:\n",
      "0      blue\n",
      "2    purple\n",
      "4    yellow\n",
      "dtype: object\n",
      "\n",
      "Reindexed Series (with missing values):\n",
      "0      blue\n",
      "1       NaN\n",
      "2    purple\n",
      "3       NaN\n",
      "4    yellow\n",
      "5       NaN\n",
      "dtype: object\n",
      "\n",
      "Reindexed Series with forward fill:\n",
      "0      blue\n",
      "1      blue\n",
      "2    purple\n",
      "3    purple\n",
      "4    yellow\n",
      "5    yellow\n",
      "dtype: object\n"
     ]
    }
   ],
   "source": [
    "import pandas as pd\n",
    "\n",
    "# Step 1: Create the Series\n",
    "s = pd.Series([\"blue\", \"purple\", \"yellow\"], index=[0, 2, 4])\n",
    "print(\"Original Series:\")\n",
    "print(s)\n",
    "\n",
    "# Step 2: Reindex to range of 6 (0 to 5)\n",
    "s_reindexed = s.reindex(range(6))\n",
    "print(\"\\nReindexed Series (with missing values):\")\n",
    "print(s_reindexed)\n",
    "\n",
    "# Step 3: Reindex again but use 'ffill' to forward fill missing values\n",
    "s_ffill = s.reindex(range(6), method='ffill')\n",
    "print(\"\\nReindexed Series with forward fill:\")\n",
    "print(s_ffill)\n"
   ]
  },
  {
   "cell_type": "markdown",
   "metadata": {},
   "source": [
    "<h3><b>Task 14 </b></h3>\n",
    "<p>\n",
    "1. Create a dataframe out of range of 9 in shape(3, 3) with index \"a\", \"c\", \"d\" and columns \"Ohio\", \"Texas\", \"California\". </br>\n",
    "2. Then change the columns to \"Texas\", \"Utah\", \"California\". </br>\n",
    " \n",
    "\n",
    "</p>\n"
   ]
  },
  {
   "cell_type": "code",
   "execution_count": 17,
   "metadata": {},
   "outputs": [
    {
     "name": "stdout",
     "output_type": "stream",
     "text": [
      "Original DataFrame:\n",
      "   Ohio  Texas  California\n",
      "a     0      1           2\n",
      "c     3      4           5\n",
      "d     6      7           8\n",
      "\n",
      "DataFrame with updated column names:\n",
      "   Texas  Utah  California\n",
      "a      0     1           2\n",
      "c      3     4           5\n",
      "d      6     7           8\n"
     ]
    }
   ],
   "source": [
    "import pandas as pd\n",
    "import numpy as np\n",
    "\n",
    "# Step 1: Create the DataFrame\n",
    "df = pd.DataFrame(\n",
    "    np.arange(9).reshape(3, 3),\n",
    "    index=[\"a\", \"c\", \"d\"],\n",
    "    columns=[\"Ohio\", \"Texas\", \"California\"]\n",
    ")\n",
    "print(\"Original DataFrame:\")\n",
    "print(df)\n",
    "\n",
    "# Step 2: Change the column names\n",
    "df.columns = [\"Texas\", \"Utah\", \"California\"]\n",
    "print(\"\\nDataFrame with updated column names:\")\n",
    "print(df)\n"
   ]
  },
  {
   "cell_type": "markdown",
   "metadata": {},
   "source": [
    "<h3><b>Task 15 </b></h3>\n",
    "<p>\n",
    "1. Create a dataframe out of the range of 16 with shape(4, 4) with index \"Ohio\", \"Colorado\", \"Utah\", \"New York\" and columns \"one\", \"two\", \"three\", \"four\" </br>\n",
    "2. Then return a new dataframe by dropping index 'Ohio' and columns 'one', 'two'.</br>\n",
    "                \n",
    "</p>\n"
   ]
  },
  {
   "cell_type": "code",
   "execution_count": 18,
   "metadata": {},
   "outputs": [
    {
     "name": "stdout",
     "output_type": "stream",
     "text": [
      "Original DataFrame:\n",
      "          one  two  three  four\n",
      "Ohio        0    1      2     3\n",
      "Colorado    4    5      6     7\n",
      "Utah        8    9     10    11\n",
      "New York   12   13     14    15\n",
      "\n",
      "DataFrame after dropping 'Ohio' and columns 'one', 'two':\n",
      "          three  four\n",
      "Colorado      6     7\n",
      "Utah         10    11\n",
      "New York     14    15\n"
     ]
    }
   ],
   "source": [
    "import pandas as pd\n",
    "import numpy as np\n",
    "\n",
    "# Step 1: Create the original DataFrame\n",
    "df = pd.DataFrame(\n",
    "    np.arange(16).reshape(4, 4),\n",
    "    index=[\"Ohio\", \"Colorado\", \"Utah\", \"New York\"],\n",
    "    columns=[\"one\", \"two\", \"three\", \"four\"]\n",
    ")\n",
    "\n",
    "print(\"Original DataFrame:\")\n",
    "print(df)\n",
    "\n",
    "# Step 2: Drop index 'Ohio' and columns 'one', 'two'\n",
    "new_df = df.drop(index=\"Ohio\").drop(columns=[\"one\", \"two\"])\n",
    "\n",
    "print(\"\\nDataFrame after dropping 'Ohio' and columns 'one', 'two':\")\n",
    "print(new_df)\n"
   ]
  },
  {
   "cell_type": "markdown",
   "metadata": {},
   "source": [
    "<h3><b>Task 16 </b></h3>\n",
    "<p>\n",
    "1. Given below dataframe, return the data where value in column 'three' is greater than 5. </br>\n",
    "2. Then assign zero to all values that are less then 5.\n",
    "</p>\n"
   ]
  },
  {
   "cell_type": "code",
   "execution_count": 19,
   "metadata": {},
   "outputs": [
    {
     "name": "stdout",
     "output_type": "stream",
     "text": [
      "Rows where 'three' > 5:\n",
      "          one  two  three  four\n",
      "Colorado    4    5      6     7\n",
      "Utah        8    9     10    11\n",
      "New York   12   13     14    15\n",
      "\n",
      "DataFrame after assigning 0 to values < 5:\n",
      "          one  two  three  four\n",
      "Ohio        0    0      0     0\n",
      "Colorado    0    5      6     7\n",
      "Utah        8    9     10    11\n",
      "New York   12   13     14    15\n"
     ]
    }
   ],
   "source": [
    "import pandas as pd\n",
    "import numpy as np\n",
    "\n",
    "# Create the DataFrame\n",
    "df = pd.DataFrame(np.arange(16).reshape((4, 4)),\n",
    "                  index=[\"Ohio\", \"Colorado\", \"Utah\", \"New York\"],\n",
    "                  columns=[\"one\", \"two\", \"three\", \"four\"])\n",
    "\n",
    "# Step 1: Return rows where value in column 'three' is greater than 5\n",
    "filtered_df = df[df['three'] > 5]\n",
    "print(\"Rows where 'three' > 5:\")\n",
    "print(filtered_df)\n",
    "\n",
    "# Step 2: Assign zero to all values that are less than 5\n",
    "df[df < 5] = 0\n",
    "print(\"\\nDataFrame after assigning 0 to values < 5:\")\n",
    "print(df)\n"
   ]
  },
  {
   "cell_type": "markdown",
   "metadata": {},
   "source": [
    "<h3><b>Task 17</b></h3>\n",
    "<p>\n",
    "Using the dataframe from the previous task, return columns \"one\", \"two\", \"three\" only where values are greater than 5.</br>\n",
    "First, use 'loc' oprator, then use 'iloc' operator. </br>\n",
    "</p>\n"
   ]
  },
  {
   "cell_type": "code",
   "execution_count": 20,
   "metadata": {},
   "outputs": [
    {
     "name": "stdout",
     "output_type": "stream",
     "text": [
      "Using loc (values > 5):\n",
      "           one   two  three\n",
      "Ohio       NaN   NaN    NaN\n",
      "Colorado   NaN   NaN    6.0\n",
      "Utah       8.0   9.0   10.0\n",
      "New York  12.0  13.0   14.0\n",
      "\n",
      "Using iloc (values > 5):\n",
      "           one   two  three\n",
      "Ohio       NaN   NaN    NaN\n",
      "Colorado   NaN   NaN    6.0\n",
      "Utah       8.0   9.0   10.0\n",
      "New York  12.0  13.0   14.0\n"
     ]
    }
   ],
   "source": [
    "import pandas as pd\n",
    "import numpy as np\n",
    "\n",
    "# Recreate the DataFrame\n",
    "df = pd.DataFrame(np.arange(16).reshape((4, 4)),\n",
    "                  index=[\"Ohio\", \"Colorado\", \"Utah\", \"New York\"],\n",
    "                  columns=[\"one\", \"two\", \"three\", \"four\"])\n",
    "\n",
    "# Assign zero to all values less than 5 (as in the previous task)\n",
    "df[df < 5] = 0\n",
    "\n",
    "# --- Using loc ---\n",
    "result_loc = df.loc[:, ['one', 'two', 'three']] > 5\n",
    "print(\"Using loc (values > 5):\")\n",
    "print(df.loc[:, ['one', 'two', 'three']][result_loc])\n",
    "\n",
    "# --- Using iloc ---\n",
    "# Columns 'one', 'two', 'three' are at index positions 0, 1, 2\n",
    "result_iloc = df.iloc[:, [0, 1, 2]] > 5\n",
    "print(\"\\nUsing iloc (values > 5):\")\n",
    "print(df.iloc[:, [0, 1, 2]][result_iloc])\n"
   ]
  },
  {
   "cell_type": "markdown",
   "metadata": {},
   "source": [
    "<h3><b>Task 18 </b></h3>\n",
    "<p>\n",
    "Now using the same dataframe, return the value located at row 'Utah' and column 'two' using 'at' or 'iat' operators. </br>\n",
    "What is the difference between 'loc' and 'at' operators?\n",
    "</p>\n"
   ]
  },
  {
   "cell_type": "code",
   "execution_count": 21,
   "metadata": {},
   "outputs": [
    {
     "name": "stdout",
     "output_type": "stream",
     "text": [
      "Using .at: 9\n",
      "Using .iat: 9\n"
     ]
    }
   ],
   "source": [
    "import pandas as pd\n",
    "import numpy as np\n",
    "\n",
    "# Recreate the DataFrame\n",
    "df = pd.DataFrame(np.arange(16).reshape((4, 4)),\n",
    "                  index=[\"Ohio\", \"Colorado\", \"Utah\", \"New York\"],\n",
    "                  columns=[\"one\", \"two\", \"three\", \"four\"])\n",
    "\n",
    "# Get value using `.at` (label-based, fast for single value access)\n",
    "value_at = df.at[\"Utah\", \"two\"]\n",
    "\n",
    "# Get value using `.iat` (integer position based)\n",
    "value_iat = df.iat[2, 1]  # 'Utah' is at row index 2, 'two' is at column index 1\n",
    "\n",
    "print(\"Using .at:\", value_at)\n",
    "print(\"Using .iat:\", value_iat)\n"
   ]
  },
  {
   "cell_type": "markdown",
   "metadata": {},
   "source": [
    "<h3><b>Task 19 </b></h3>\n",
    "<p>\n",
    "What will happen if you add below dataframes using '+' operator? </br>\n",
    "Return the result. </br>\n",
    "</p>\n"
   ]
  },
  {
   "cell_type": "code",
   "execution_count": 22,
   "metadata": {},
   "outputs": [
    {
     "name": "stdout",
     "output_type": "stream",
     "text": [
      "   A\n",
      "0  4\n",
      "1  6\n"
     ]
    }
   ],
   "source": [
    "import pandas as pd\n",
    "\n",
    "df1 = pd.DataFrame({\"A\": [1, 2]})\n",
    "df2 = pd.DataFrame({\"A\": [3, 4]})\n",
    "\n",
    "result = df1 + df2\n",
    "print(result)\n"
   ]
  },
  {
   "cell_type": "markdown",
   "metadata": {},
   "source": [
    "<h3><b>Task 20 </b></h3><p>\n",
    "What will happen if you add below dataframes (different column names) using '+' operator?  </br>\n",
    "Return the result. </br>\n",
    "</p>\n"
   ]
  },
  {
   "cell_type": "code",
   "execution_count": 23,
   "metadata": {},
   "outputs": [
    {
     "name": "stdout",
     "output_type": "stream",
     "text": [
      "    A   B\n",
      "0 NaN NaN\n",
      "1 NaN NaN\n"
     ]
    }
   ],
   "source": [
    "import pandas as pd\n",
    "\n",
    "df1 = pd.DataFrame({\"A\": [1, 2]})\n",
    "df2 = pd.DataFrame({\"B\": [3, 4]})\n",
    "\n",
    "result = df1 + df2\n",
    "print(result)\n"
   ]
  },
  {
   "cell_type": "markdown",
   "metadata": {},
   "source": [
    "<h3><b>Task 21 </b></h3>\n",
    "<p>\n",
    "Now use the dataframes from the prior task and use 'add' method with argument 'fill_value=0' which substitutes the passed value for any missing values in the operation. </br>\n",
    "</p>\n"
   ]
  },
  {
   "cell_type": "code",
   "execution_count": 25,
   "metadata": {},
   "outputs": [
    {
     "name": "stdout",
     "output_type": "stream",
     "text": [
      "     A    B\n",
      "0  1.0  3.0\n",
      "1  2.0  4.0\n"
     ]
    }
   ],
   "source": [
    "import pandas as pd\n",
    "\n",
    "df1 = pd.DataFrame({\"A\": [1, 2]})\n",
    "df2 = pd.DataFrame({\"B\": [3, 4]})\n",
    "\n",
    "result = df1.add(df2, fill_value=0)\n",
    "print(result)\n"
   ]
  },
  {
   "cell_type": "markdown",
   "metadata": {},
   "source": [
    "<h3><b>Task 22 </b></h3>\n",
    "<p>\n",
    "Now for each value in df1 return the result of division operation '1/value':\n",
    " </br>\n",
    "</p>\n"
   ]
  },
  {
   "cell_type": "code",
   "execution_count": 26,
   "metadata": {},
   "outputs": [
    {
     "name": "stdout",
     "output_type": "stream",
     "text": [
      "     A\n",
      "0  1.0\n",
      "1  0.5\n"
     ]
    }
   ],
   "source": [
    "import pandas as pd\n",
    "\n",
    "df1 = pd.DataFrame({\"A\": [1, 2]})\n",
    "\n",
    "result = 1 / df1\n",
    "print(result)\n"
   ]
  },
  {
   "cell_type": "markdown",
   "metadata": {},
   "source": [
    "<h3><b>Task 23 </b></h3>\n",
    "<p>\n",
    "1. Create a datafarme out of random float numbers using np.random.standard_normal in shape(4, 3) with columns list(\"bde\") and index \"Utah\", \"Ohio\", \"Texas\", \"Oregon\"</br>\n",
    "2. Define a custom function that returns a difference between maximum and minimum values of a given sequence.</br>\n",
    "3. Apply the function to the dataframe. What is the default axis for this function? Try to change the axis and analyze the result.</br>\n",
    "4. Now repeat the process using lambda function. \n",
    "\n",
    "\n",
    "</p>\n"
   ]
  },
  {
   "cell_type": "code",
   "execution_count": 27,
   "metadata": {},
   "outputs": [
    {
     "name": "stdout",
     "output_type": "stream",
     "text": [
      "Original DataFrame:\n",
      "               b         d         e\n",
      "Utah    0.415563 -1.291042 -0.095922\n",
      "Ohio   -0.715992 -0.415218  0.101860\n",
      "Texas  -0.171323 -1.314653  0.241072\n",
      "Oregon  0.101271  0.549978  1.943246\n"
     ]
    }
   ],
   "source": [
    "import pandas as pd\n",
    "import numpy as np\n",
    "\n",
    "df = pd.DataFrame(\n",
    "    np.random.standard_normal((4, 3)),\n",
    "    columns=list(\"bde\"),\n",
    "    index=[\"Utah\", \"Ohio\", \"Texas\", \"Oregon\"]\n",
    ")\n",
    "\n",
    "print(\"Original DataFrame:\")\n",
    "print(df)\n"
   ]
  },
  {
   "cell_type": "markdown",
   "metadata": {},
   "source": [
    "<h3><b>Task 24 </b></h3>\n",
    "<p>\n",
    "Create a function that accepts an input float number like '3.475911' and returns a string formatted like '3.476'.</br>\n",
    "Then apply it to each element of the dataframe created in the previous task. </br>\n",
    "</p>\n"
   ]
  },
  {
   "cell_type": "code",
   "execution_count": 28,
   "metadata": {},
   "outputs": [
    {
     "name": "stdout",
     "output_type": "stream",
     "text": [
      "Original DataFrame:\n",
      "               b         d         e\n",
      "Utah    0.876714  2.063650  0.350110\n",
      "Ohio   -0.190138 -0.090167 -1.875415\n",
      "Texas   0.079658 -0.513901  0.505569\n",
      "Oregon -1.005598  0.873465  1.179791\n",
      "\n",
      "Max - Min (column-wise):\n",
      "b    1.882312\n",
      "d    2.577551\n",
      "e    3.055205\n",
      "dtype: float64\n",
      "\n",
      "Max - Min (row-wise):\n",
      "Utah      1.713540\n",
      "Ohio      1.785248\n",
      "Texas     1.019470\n",
      "Oregon    2.185388\n",
      "dtype: float64\n",
      "\n",
      "Using lambda (column-wise):\n",
      "b    1.882312\n",
      "d    2.577551\n",
      "e    3.055205\n",
      "dtype: float64\n",
      "\n",
      "Using lambda (row-wise):\n",
      "Utah      1.713540\n",
      "Ohio      1.785248\n",
      "Texas     1.019470\n",
      "Oregon    2.185388\n",
      "dtype: float64\n"
     ]
    }
   ],
   "source": [
    "import pandas as pd\n",
    "import numpy as np\n",
    "\n",
    "# 1. Create the DataFrame\n",
    "df = pd.DataFrame(\n",
    "    np.random.standard_normal((4, 3)),\n",
    "    columns=list(\"bde\"),\n",
    "    index=[\"Utah\", \"Ohio\", \"Texas\", \"Oregon\"]\n",
    ")\n",
    "\n",
    "print(\"Original DataFrame:\")\n",
    "print(df)\n",
    "\n",
    "# 2. Define a custom function\n",
    "def max_min_diff(x):\n",
    "    return x.max() - x.min()\n",
    "\n",
    "# 3. Apply the function (default axis = 0, column-wise)\n",
    "print(\"\\nMax - Min (column-wise):\")\n",
    "print(df.apply(max_min_diff))\n",
    "\n",
    "# Apply the function row-wise\n",
    "print(\"\\nMax - Min (row-wise):\")\n",
    "print(df.apply(max_min_diff, axis=1))\n",
    "\n",
    "# 4. Repeat using lambda function\n",
    "print(\"\\nUsing lambda (column-wise):\")\n",
    "print(df.apply(lambda x: x.max() - x.min()))\n",
    "\n",
    "print(\"\\nUsing lambda (row-wise):\")\n",
    "print(df.apply(lambda x: x.max() - x.min(), axis=1))\n"
   ]
  },
  {
   "cell_type": "markdown",
   "metadata": {},
   "source": [
    "<h3><b>Task 25 </b></h3>\n",
    "<p>\n",
    "1. Create a dataframe out of the range of 8 with shape(2, 4) with index \"three\", \"one\" and columns \"d\", \"a\", \"b\", \"c\".</br>\n",
    "2. Sort it by its index in descending order.</br>\n",
    "3. Then sort it by the column index.</br>\n",
    "4. Then sort it by the values in columns 'a' and 'b'.</br>\n",
    "\n",
    "</p>\n"
   ]
  },
  {
   "cell_type": "code",
   "execution_count": 29,
   "metadata": {},
   "outputs": [
    {
     "name": "stdout",
     "output_type": "stream",
     "text": [
      "Original DataFrame:\n",
      "       d  a  b  c\n",
      "three  0  1  2  3\n",
      "one    4  5  6  7\n",
      "\n",
      "Sorted by index (descending):\n",
      "       d  a  b  c\n",
      "three  0  1  2  3\n",
      "one    4  5  6  7\n",
      "\n",
      "Sorted by column index:\n",
      "       a  b  c  d\n",
      "three  1  2  3  0\n",
      "one    5  6  7  4\n",
      "\n",
      "Sorted by values in columns 'a' and 'b':\n",
      "       d  a  b  c\n",
      "three  0  1  2  3\n",
      "one    4  5  6  7\n"
     ]
    }
   ],
   "source": [
    "import pandas as pd\n",
    "import numpy as np\n",
    "\n",
    "# 1. Create the DataFrame\n",
    "df = pd.DataFrame(\n",
    "    np.arange(8).reshape((2, 4)),\n",
    "    index=[\"three\", \"one\"],\n",
    "    columns=[\"d\", \"a\", \"b\", \"c\"]\n",
    ")\n",
    "print(\"Original DataFrame:\")\n",
    "print(df)\n",
    "\n",
    "# 2. Sort by index in descending order\n",
    "sorted_by_index = df.sort_index(ascending=False)\n",
    "print(\"\\nSorted by index (descending):\")\n",
    "print(sorted_by_index)\n",
    "\n",
    "# 3. Sort by column index\n",
    "sorted_by_columns = df.sort_index(axis=1)\n",
    "print(\"\\nSorted by column index:\")\n",
    "print(sorted_by_columns)\n",
    "\n",
    "# 4. Sort by values in columns 'a' and 'b'\n",
    "sorted_by_values = df.sort_values(by=[\"a\", \"b\"])\n",
    "print(\"\\nSorted by values in columns 'a' and 'b':\")\n",
    "print(sorted_by_values)\n"
   ]
  },
  {
   "cell_type": "markdown",
   "metadata": {},
   "source": [
    "<h3><b>Task 26 </b></h3>\n",
    "<p>\n",
    "1. Create a Series out of the range of 5 with index \"a\", \"a\", \"b\", \"b\", \"c\". </br>\n",
    "2. Return a boolean value that indicates if the index values are unique.</br>\n",
    "3. Return unique indexes only.</br>\n",
    "4. Return unique data values only.</br>\n",
    "</p>\n"
   ]
  },
  {
   "cell_type": "code",
   "execution_count": 30,
   "metadata": {},
   "outputs": [
    {
     "name": "stdout",
     "output_type": "stream",
     "text": [
      "Original Series:\n",
      "a    0\n",
      "a    1\n",
      "b    2\n",
      "b    3\n",
      "c    4\n",
      "dtype: int64\n",
      "\n",
      "Is the index unique?\n",
      "False\n",
      "\n",
      "Unique index values:\n",
      "['a' 'b' 'c']\n",
      "\n",
      "Unique data values:\n",
      "[0 1 2 3 4]\n"
     ]
    }
   ],
   "source": [
    "import pandas as pd\n",
    "\n",
    "# 1. Create a Series\n",
    "s = pd.Series(range(5), index=[\"a\", \"a\", \"b\", \"b\", \"c\"])\n",
    "print(\"Original Series:\")\n",
    "print(s)\n",
    "\n",
    "# 2. Check if index values are unique\n",
    "print(\"\\nIs the index unique?\")\n",
    "print(s.index.is_unique)\n",
    "\n",
    "# 3. Return unique index values only\n",
    "print(\"\\nUnique index values:\")\n",
    "print(pd.unique(s.index))\n",
    "\n",
    "# 4. Return unique data values only\n",
    "print(\"\\nUnique data values:\")\n",
    "print(pd.unique(s))\n"
   ]
  },
  {
   "cell_type": "markdown",
   "metadata": {},
   "source": [
    "<h3><b>Task 27 </b></h3>\n",
    "<p>\n",
    "1. Guess what data type it will return if you select data using a non-unique index and if using a unique index.</br>\n",
    "2. Use the series from the previous task to test it and analyze the result.</br>\n",
    "\n",
    "Hint: \n",
    "This can make your code more complicated, as the output type from indexing can vary based on whether or not a label is repeated! </br>\n",
    "Same logic extends to a dataframe: check the next task.\n",
    "</p>\n"
   ]
  },
  {
   "cell_type": "code",
   "execution_count": 31,
   "metadata": {},
   "outputs": [
    {
     "name": "stdout",
     "output_type": "stream",
     "text": [
      "Original Series:\n",
      "a    0\n",
      "a    1\n",
      "b    2\n",
      "b    3\n",
      "c    4\n",
      "dtype: int64\n",
      "\n",
      "Accessing 'a' (non-unique index):\n",
      "a    0\n",
      "a    1\n",
      "dtype: int64\n",
      "Type: <class 'pandas.core.series.Series'>\n",
      "\n",
      "Accessing 'c' (unique index):\n",
      "4\n",
      "Type: <class 'numpy.int64'>\n"
     ]
    }
   ],
   "source": [
    "import pandas as pd\n",
    "\n",
    "# Recreate the Series\n",
    "s = pd.Series(range(5), index=[\"a\", \"a\", \"b\", \"b\", \"c\"])\n",
    "print(\"Original Series:\")\n",
    "print(s)\n",
    "\n",
    "# Accessing with non-unique index\n",
    "non_unique_result = s[\"a\"]\n",
    "print(\"\\nAccessing 'a' (non-unique index):\")\n",
    "print(non_unique_result)\n",
    "print(\"Type:\", type(non_unique_result))\n",
    "\n",
    "# Accessing with unique index\n",
    "unique_result = s[\"c\"]\n",
    "print(\"\\nAccessing 'c' (unique index):\")\n",
    "print(unique_result)\n",
    "print(\"Type:\", type(unique_result))\n"
   ]
  },
  {
   "cell_type": "markdown",
   "metadata": {},
   "source": [
    "<h3><b>Task 28 </b></h3>\n",
    "<p>\n",
    "1. Create a dataframe out of random float number using np.random.standard_normal in shape(5, 3) with index \"a\", \"a\", \"b\", \"b\", \"c\". </br>\n",
    "2. Use 'loc' operator to return values for index 'a'. What data type it returns?</br>\n",
    "3. Now use the same operator to return values for index 'c' this time. Does it return the same data type? Why?</br>\n",
    "4. Finally use the same operator to return the value located at row 'c', column '0'. What data type it returns this time?\n",
    "</p>\n"
   ]
  },
  {
   "cell_type": "code",
   "execution_count": 32,
   "metadata": {},
   "outputs": [
    {
     "name": "stdout",
     "output_type": "stream",
     "text": [
      "DataFrame:\n",
      "           0         1         2\n",
      "a -0.126427 -1.608459  0.828073\n",
      "a  0.054602 -2.261783 -0.154439\n",
      "b  1.432216 -2.190502  0.229523\n",
      "b  0.939479  0.077819  0.527027\n",
      "c -1.840219 -2.054575 -0.291332\n",
      "\n",
      "Values for index 'a':\n",
      "           0         1         2\n",
      "a -0.126427 -1.608459  0.828073\n",
      "a  0.054602 -2.261783 -0.154439\n",
      "Type for index 'a': <class 'pandas.core.frame.DataFrame'>\n",
      "\n",
      "Values for index 'c':\n",
      " 0   -1.840219\n",
      "1   -2.054575\n",
      "2   -0.291332\n",
      "Name: c, dtype: float64\n",
      "Type for index 'c': <class 'pandas.core.series.Series'>\n",
      "\n",
      "Value at row 'c', column 0: -1.8402192088875944\n",
      "Type for single cell access: <class 'numpy.float64'>\n"
     ]
    }
   ],
   "source": [
    "import pandas as pd\n",
    "import numpy as np\n",
    "\n",
    "# 1. Create DataFrame with shape (5, 3) and index [\"a\", \"a\", \"b\", \"b\", \"c\"]\n",
    "df = pd.DataFrame(np.random.standard_normal((5, 3)), index=[\"a\", \"a\", \"b\", \"b\", \"c\"])\n",
    "print(\"DataFrame:\\n\", df)\n",
    "\n",
    "# 2. Use 'loc' to return values for index 'a' and check data type\n",
    "result_a = df.loc[\"a\"]\n",
    "print(\"\\nValues for index 'a':\\n\", result_a)\n",
    "print(\"Type for index 'a':\", type(result_a))  # Expect DataFrame because index 'a' is not unique\n",
    "\n",
    "# 3. Use 'loc' to return values for index 'c' and check data type\n",
    "result_c = df.loc[\"c\"]\n",
    "print(\"\\nValues for index 'c':\\n\", result_c)\n",
    "print(\"Type for index 'c':\", type(result_c))  # Expect Series because index 'c' is unique\n",
    "\n",
    "# 4. Use 'loc' to get value at row 'c', column 0 and check data type\n",
    "value_c0 = df.loc[\"c\", 0]\n",
    "print(\"\\nValue at row 'c', column 0:\", value_c0)\n",
    "print(\"Type for single cell access:\", type(value_c0))  # Expect float (scalar value)\n"
   ]
  }
 ],
 "metadata": {
  "kernelspec": {
   "display_name": "Python 3",
   "language": "python",
   "name": "python3"
  },
  "language_info": {
   "codemirror_mode": {
    "name": "ipython",
    "version": 3
   },
   "file_extension": ".py",
   "mimetype": "text/x-python",
   "name": "python",
   "nbconvert_exporter": "python",
   "pygments_lexer": "ipython3",
   "version": "3.13.2"
  }
 },
 "nbformat": 4,
 "nbformat_minor": 2
}
